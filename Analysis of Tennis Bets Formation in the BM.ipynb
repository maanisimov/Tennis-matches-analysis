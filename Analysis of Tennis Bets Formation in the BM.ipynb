{
 "cells": [
  {
   "cell_type": "markdown",
   "metadata": {},
   "source": [
    "Здравствуй, дорогой читатель! В данном файле ты можешь увидеть интереснейшее применение анализа данных для работы с данными теннисных матчей и букмекерских котировок. Идея данной работы пришла ко мне после долгих лет игры в теннис и небольшого увлечения ставками. Она состоит в вопросе: являются ли букмекерские котировки \"справедливыми\"? Отражают ли они реальный расклад перед матем или можно найти какие-либо \"провалы рынка\"? Здесь сразу надо поправиться и сказать, что коэффициенты на матчи определяют не столько букмекерские конторы (они равзве что задают начальные ставки), а сами игроки, то есть сторона спроса. Сильное давление на котировки может заставить букмекерские конторы значительно снизить их, так как такая ситуация увеличивает вероятность того, что, например, данный матч является договорным, и предоставитель букмекерских услуг может потерять большие суммы, не подстроив ставки. Можно сказать, что к началу матча коэффициенты определены стороной рынкой, и получается, что мой вопрос, выраженный в корректной форме, звучит так: насколько сильно ошибаются игроки на ставках в оценке расклада сил перед теннисными матчами? \n",
    "\n",
    "Но как же оценить эту истинный расклад? Как понять, каковы настоящие вероятности победы каждого из игроков перед матчем? Возможно, лет 100 назад мне пришлось бы идти к гадалке, но жизнь не стоит на месте и открывает перед нами новые горизонты. Благодаря лучшим умам мира появился новый способ оценки вероятностей событий (и не только) -  machine learning. С помощью больших массивов данных можно обучить компьютер угадывать вероятности перед матчами о том, будет тот или иной игрок победителем или проигравшим, и использовать это в дальнейшем. Безусловно, важно качество алгоритма, который будет получен, ведь он и определит качество модели.  "
   ]
  },
  {
   "cell_type": "markdown",
   "metadata": {},
   "source": [
    "Для начала загрузим все необходимые для анализа данных библиотеки."
   ]
  },
  {
   "cell_type": "code",
   "execution_count": 207,
   "metadata": {
    "collapsed": false
   },
   "outputs": [
    {
     "name": "stdout",
     "output_type": "stream",
     "text": [
      "Populating the interactive namespace from numpy and matplotlib\n"
     ]
    }
   ],
   "source": [
    "import scipy.stats as stats\n",
    "import csv as csv\n",
    "import numpy as np\n",
    "import pandas as pd\n",
    "import seaborn as sns\n",
    "import fnmatch\n",
    "import matplotlib.pyplot as plt\n",
    "import matplotlib.mlab as mlab\n",
    "%matplotlib inline\n",
    "import warnings\n",
    "warnings.simplefilter('ignore')\n",
    "%pylab inline\n"
   ]
  },
  {
   "cell_type": "markdown",
   "metadata": {},
   "source": [
    "Далее приступим к работе с данными."
   ]
  },
  {
   "cell_type": "markdown",
   "metadata": {
    "collapsed": true
   },
   "source": [
    "##  Работа со статистическими данными о теннисных матчах"
   ]
  },
  {
   "cell_type": "markdown",
   "metadata": {},
   "source": [
    "Откроем файл с данными о матчах за 2000-2015 годы и за 2016 год.    \n",
    "*Данные взяты с https://github.com/JeffSackmann/tennis_atp."
   ]
  },
  {
   "cell_type": "code",
   "execution_count": 208,
   "metadata": {
    "collapsed": false
   },
   "outputs": [
    {
     "data": {
      "text/html": [
       "<div>\n",
       "<table border=\"1\" class=\"dataframe\">\n",
       "  <thead>\n",
       "    <tr style=\"text-align: right;\">\n",
       "      <th></th>\n",
       "      <th>tourney_id</th>\n",
       "      <th>tourney_name</th>\n",
       "      <th>surface</th>\n",
       "      <th>draw_size</th>\n",
       "      <th>tourney_level</th>\n",
       "      <th>tourney_date</th>\n",
       "      <th>match_num</th>\n",
       "      <th>winner_id</th>\n",
       "      <th>winner_seed</th>\n",
       "      <th>winner_entry</th>\n",
       "      <th>...</th>\n",
       "      <th>w_bpFaced</th>\n",
       "      <th>l_ace</th>\n",
       "      <th>l_df</th>\n",
       "      <th>l_svpt</th>\n",
       "      <th>l_1stIn</th>\n",
       "      <th>l_1stWon</th>\n",
       "      <th>l_2ndWon</th>\n",
       "      <th>l_SvGms</th>\n",
       "      <th>l_bpSaved</th>\n",
       "      <th>l_bpFaced</th>\n",
       "    </tr>\n",
       "  </thead>\n",
       "  <tbody>\n",
       "    <tr>\n",
       "      <th>0</th>\n",
       "      <td>2000-717</td>\n",
       "      <td>Orlando</td>\n",
       "      <td>Clay</td>\n",
       "      <td>32</td>\n",
       "      <td>A</td>\n",
       "      <td>20000501</td>\n",
       "      <td>1</td>\n",
       "      <td>102179</td>\n",
       "      <td>NaN</td>\n",
       "      <td>NaN</td>\n",
       "      <td>...</td>\n",
       "      <td>15.0</td>\n",
       "      <td>13.0</td>\n",
       "      <td>4.0</td>\n",
       "      <td>110.0</td>\n",
       "      <td>59.0</td>\n",
       "      <td>49.0</td>\n",
       "      <td>31.0</td>\n",
       "      <td>17.0</td>\n",
       "      <td>4.0</td>\n",
       "      <td>4.0</td>\n",
       "    </tr>\n",
       "    <tr>\n",
       "      <th>1</th>\n",
       "      <td>2000-717</td>\n",
       "      <td>Orlando</td>\n",
       "      <td>Clay</td>\n",
       "      <td>32</td>\n",
       "      <td>A</td>\n",
       "      <td>20000501</td>\n",
       "      <td>2</td>\n",
       "      <td>103602</td>\n",
       "      <td>NaN</td>\n",
       "      <td>Q</td>\n",
       "      <td>...</td>\n",
       "      <td>6.0</td>\n",
       "      <td>0.0</td>\n",
       "      <td>0.0</td>\n",
       "      <td>57.0</td>\n",
       "      <td>24.0</td>\n",
       "      <td>13.0</td>\n",
       "      <td>17.0</td>\n",
       "      <td>10.0</td>\n",
       "      <td>4.0</td>\n",
       "      <td>9.0</td>\n",
       "    </tr>\n",
       "    <tr>\n",
       "      <th>2</th>\n",
       "      <td>2000-717</td>\n",
       "      <td>Orlando</td>\n",
       "      <td>Clay</td>\n",
       "      <td>32</td>\n",
       "      <td>A</td>\n",
       "      <td>20000501</td>\n",
       "      <td>3</td>\n",
       "      <td>103387</td>\n",
       "      <td>NaN</td>\n",
       "      <td>NaN</td>\n",
       "      <td>...</td>\n",
       "      <td>0.0</td>\n",
       "      <td>2.0</td>\n",
       "      <td>2.0</td>\n",
       "      <td>65.0</td>\n",
       "      <td>39.0</td>\n",
       "      <td>22.0</td>\n",
       "      <td>10.0</td>\n",
       "      <td>8.0</td>\n",
       "      <td>6.0</td>\n",
       "      <td>10.0</td>\n",
       "    </tr>\n",
       "    <tr>\n",
       "      <th>3</th>\n",
       "      <td>2000-717</td>\n",
       "      <td>Orlando</td>\n",
       "      <td>Clay</td>\n",
       "      <td>32</td>\n",
       "      <td>A</td>\n",
       "      <td>20000501</td>\n",
       "      <td>4</td>\n",
       "      <td>101733</td>\n",
       "      <td>NaN</td>\n",
       "      <td>NaN</td>\n",
       "      <td>...</td>\n",
       "      <td>12.0</td>\n",
       "      <td>4.0</td>\n",
       "      <td>6.0</td>\n",
       "      <td>104.0</td>\n",
       "      <td>57.0</td>\n",
       "      <td>35.0</td>\n",
       "      <td>24.0</td>\n",
       "      <td>15.0</td>\n",
       "      <td>6.0</td>\n",
       "      <td>11.0</td>\n",
       "    </tr>\n",
       "    <tr>\n",
       "      <th>4</th>\n",
       "      <td>2000-717</td>\n",
       "      <td>Orlando</td>\n",
       "      <td>Clay</td>\n",
       "      <td>32</td>\n",
       "      <td>A</td>\n",
       "      <td>20000501</td>\n",
       "      <td>5</td>\n",
       "      <td>101727</td>\n",
       "      <td>4.0</td>\n",
       "      <td>NaN</td>\n",
       "      <td>...</td>\n",
       "      <td>1.0</td>\n",
       "      <td>0.0</td>\n",
       "      <td>3.0</td>\n",
       "      <td>47.0</td>\n",
       "      <td>28.0</td>\n",
       "      <td>17.0</td>\n",
       "      <td>10.0</td>\n",
       "      <td>8.0</td>\n",
       "      <td>3.0</td>\n",
       "      <td>6.0</td>\n",
       "    </tr>\n",
       "  </tbody>\n",
       "</table>\n",
       "<p>5 rows × 49 columns</p>\n",
       "</div>"
      ],
      "text/plain": [
       "  tourney_id tourney_name surface  draw_size tourney_level  tourney_date  \\\n",
       "0   2000-717      Orlando    Clay         32             A      20000501   \n",
       "1   2000-717      Orlando    Clay         32             A      20000501   \n",
       "2   2000-717      Orlando    Clay         32             A      20000501   \n",
       "3   2000-717      Orlando    Clay         32             A      20000501   \n",
       "4   2000-717      Orlando    Clay         32             A      20000501   \n",
       "\n",
       "   match_num  winner_id  winner_seed winner_entry    ...    w_bpFaced l_ace  \\\n",
       "0          1     102179          NaN          NaN    ...         15.0  13.0   \n",
       "1          2     103602          NaN            Q    ...          6.0   0.0   \n",
       "2          3     103387          NaN          NaN    ...          0.0   2.0   \n",
       "3          4     101733          NaN          NaN    ...         12.0   4.0   \n",
       "4          5     101727          4.0          NaN    ...          1.0   0.0   \n",
       "\n",
       "   l_df l_svpt  l_1stIn  l_1stWon  l_2ndWon  l_SvGms  l_bpSaved l_bpFaced  \n",
       "0   4.0  110.0     59.0      49.0      31.0     17.0        4.0       4.0  \n",
       "1   0.0   57.0     24.0      13.0      17.0     10.0        4.0       9.0  \n",
       "2   2.0   65.0     39.0      22.0      10.0      8.0        6.0      10.0  \n",
       "3   6.0  104.0     57.0      35.0      24.0     15.0        6.0      11.0  \n",
       "4   3.0   47.0     28.0      17.0      10.0      8.0        3.0       6.0  \n",
       "\n",
       "[5 rows x 49 columns]"
      ]
     },
     "execution_count": 208,
     "metadata": {},
     "output_type": "execute_result"
    }
   ],
   "source": [
    "matches = pd.read_csv('all_matches_2000-2015.csv')\n",
    "matches.head()"
   ]
  },
  {
   "cell_type": "code",
   "execution_count": 209,
   "metadata": {
    "collapsed": false
   },
   "outputs": [],
   "source": [
    "tennis2016 = pd.read_csv('atp_matches_2016.csv')"
   ]
  },
  {
   "cell_type": "markdown",
   "metadata": {},
   "source": [
    "Теперь объединим их и сделаем нумерацию от 0 до числа строк в новом датафрейме."
   ]
  },
  {
   "cell_type": "code",
   "execution_count": 210,
   "metadata": {
    "collapsed": false
   },
   "outputs": [
    {
     "data": {
      "text/html": [
       "<div>\n",
       "<table border=\"1\" class=\"dataframe\">\n",
       "  <thead>\n",
       "    <tr style=\"text-align: right;\">\n",
       "      <th></th>\n",
       "      <th>tourney_id</th>\n",
       "      <th>tourney_name</th>\n",
       "      <th>surface</th>\n",
       "      <th>draw_size</th>\n",
       "      <th>tourney_level</th>\n",
       "      <th>tourney_date</th>\n",
       "      <th>match_num</th>\n",
       "      <th>winner_id</th>\n",
       "      <th>winner_seed</th>\n",
       "      <th>winner_entry</th>\n",
       "      <th>...</th>\n",
       "      <th>w_bpFaced</th>\n",
       "      <th>l_ace</th>\n",
       "      <th>l_df</th>\n",
       "      <th>l_svpt</th>\n",
       "      <th>l_1stIn</th>\n",
       "      <th>l_1stWon</th>\n",
       "      <th>l_2ndWon</th>\n",
       "      <th>l_SvGms</th>\n",
       "      <th>l_bpSaved</th>\n",
       "      <th>l_bpFaced</th>\n",
       "    </tr>\n",
       "  </thead>\n",
       "  <tbody>\n",
       "    <tr>\n",
       "      <th>53118</th>\n",
       "      <td>2016-M-DC-2016-WG-PO-SUI-UZB-01</td>\n",
       "      <td>Davis Cup WG PO: SUI vs UZB</td>\n",
       "      <td>Clay</td>\n",
       "      <td>4</td>\n",
       "      <td>D</td>\n",
       "      <td>20160916</td>\n",
       "      <td>4</td>\n",
       "      <td>104797</td>\n",
       "      <td>NaN</td>\n",
       "      <td>NaN</td>\n",
       "      <td>...</td>\n",
       "      <td>8.0</td>\n",
       "      <td>3.0</td>\n",
       "      <td>6.0</td>\n",
       "      <td>169.0</td>\n",
       "      <td>103.0</td>\n",
       "      <td>70.0</td>\n",
       "      <td>34.0</td>\n",
       "      <td>24.0</td>\n",
       "      <td>2.0</td>\n",
       "      <td>7.0</td>\n",
       "    </tr>\n",
       "    <tr>\n",
       "      <th>53119</th>\n",
       "      <td>2016-M-DC-2016-WG-PO-SUI-UZB-01</td>\n",
       "      <td>Davis Cup WG PO: SUI vs UZB</td>\n",
       "      <td>Clay</td>\n",
       "      <td>4</td>\n",
       "      <td>D</td>\n",
       "      <td>20160916</td>\n",
       "      <td>5</td>\n",
       "      <td>134472</td>\n",
       "      <td>NaN</td>\n",
       "      <td>NaN</td>\n",
       "      <td>...</td>\n",
       "      <td>8.0</td>\n",
       "      <td>8.0</td>\n",
       "      <td>3.0</td>\n",
       "      <td>114.0</td>\n",
       "      <td>63.0</td>\n",
       "      <td>39.0</td>\n",
       "      <td>26.0</td>\n",
       "      <td>19.0</td>\n",
       "      <td>6.0</td>\n",
       "      <td>14.0</td>\n",
       "    </tr>\n",
       "  </tbody>\n",
       "</table>\n",
       "<p>2 rows × 49 columns</p>\n",
       "</div>"
      ],
      "text/plain": [
       "                            tourney_id                 tourney_name surface  \\\n",
       "53118  2016-M-DC-2016-WG-PO-SUI-UZB-01  Davis Cup WG PO: SUI vs UZB    Clay   \n",
       "53119  2016-M-DC-2016-WG-PO-SUI-UZB-01  Davis Cup WG PO: SUI vs UZB    Clay   \n",
       "\n",
       "       draw_size tourney_level  tourney_date  match_num  winner_id  \\\n",
       "53118          4             D      20160916          4     104797   \n",
       "53119          4             D      20160916          5     134472   \n",
       "\n",
       "       winner_seed winner_entry    ...    w_bpFaced l_ace  l_df l_svpt  \\\n",
       "53118          NaN          NaN    ...          8.0   3.0   6.0  169.0   \n",
       "53119          NaN          NaN    ...          8.0   8.0   3.0  114.0   \n",
       "\n",
       "       l_1stIn  l_1stWon  l_2ndWon  l_SvGms  l_bpSaved l_bpFaced  \n",
       "53118    103.0      70.0      34.0     24.0        2.0       7.0  \n",
       "53119     63.0      39.0      26.0     19.0        6.0      14.0  \n",
       "\n",
       "[2 rows x 49 columns]"
      ]
     },
     "execution_count": 210,
     "metadata": {},
     "output_type": "execute_result"
    }
   ],
   "source": [
    "matches = pd.concat([matches, tennis2016])\n",
    "matches.index = range(len(matches.index))\n",
    "matches.tail(2)"
   ]
  },
  {
   "cell_type": "markdown",
   "metadata": {},
   "source": [
    "Посмотрим основную информацию о новом датафрейме 'matches':"
   ]
  },
  {
   "cell_type": "code",
   "execution_count": 211,
   "metadata": {
    "collapsed": false
   },
   "outputs": [
    {
     "name": "stdout",
     "output_type": "stream",
     "text": [
      "<class 'pandas.core.frame.DataFrame'>\n",
      "RangeIndex: 53120 entries, 0 to 53119\n",
      "Data columns (total 49 columns):\n",
      "tourney_id            53120 non-null object\n",
      "tourney_name          53120 non-null object\n",
      "surface               53002 non-null object\n",
      "draw_size             53120 non-null int64\n",
      "tourney_level         53120 non-null object\n",
      "tourney_date          53120 non-null int64\n",
      "match_num             53120 non-null int64\n",
      "winner_id             53120 non-null int64\n",
      "winner_seed           22156 non-null float64\n",
      "winner_entry          6192 non-null object\n",
      "winner_name           53120 non-null object\n",
      "winner_hand           53108 non-null object\n",
      "winner_ht             49751 non-null float64\n",
      "winner_ioc            53120 non-null object\n",
      "winner_age            53102 non-null float64\n",
      "winner_rank           52057 non-null float64\n",
      "winner_rank_points    52057 non-null float64\n",
      "loser_id              53120 non-null int64\n",
      "loser_seed            11899 non-null float64\n",
      "loser_entry           10390 non-null object\n",
      "loser_name            53120 non-null object\n",
      "loser_hand            53093 non-null object\n",
      "loser_ht              47607 non-null float64\n",
      "loser_ioc             53120 non-null object\n",
      "loser_age             53092 non-null float64\n",
      "loser_rank            51350 non-null float64\n",
      "loser_rank_points     51350 non-null float64\n",
      "score                 53119 non-null object\n",
      "best_of               53120 non-null int64\n",
      "round                 53120 non-null object\n",
      "minutes               46132 non-null float64\n",
      "w_ace                 47366 non-null float64\n",
      "w_df                  47366 non-null float64\n",
      "w_svpt                47366 non-null float64\n",
      "w_1stIn               47366 non-null float64\n",
      "w_1stWon              47366 non-null float64\n",
      "w_2ndWon              47366 non-null float64\n",
      "w_SvGms               47366 non-null float64\n",
      "w_bpSaved             47366 non-null float64\n",
      "w_bpFaced             47366 non-null float64\n",
      "l_ace                 47366 non-null float64\n",
      "l_df                  47366 non-null float64\n",
      "l_svpt                47366 non-null float64\n",
      "l_1stIn               47366 non-null float64\n",
      "l_1stWon              47366 non-null float64\n",
      "l_2ndWon              47366 non-null float64\n",
      "l_SvGms               47366 non-null float64\n",
      "l_bpSaved             47366 non-null float64\n",
      "l_bpFaced             47366 non-null float64\n",
      "dtypes: float64(29), int64(6), object(14)\n",
      "memory usage: 19.9+ MB\n"
     ]
    }
   ],
   "source": [
    "matches.info()"
   ]
  },
  {
   "cell_type": "markdown",
   "metadata": {},
   "source": [
    "Сделаем новые, более репрезентативные и информативные статистические показатели игроков за матч:"
   ]
  },
  {
   "cell_type": "code",
   "execution_count": 212,
   "metadata": {
    "collapsed": true
   },
   "outputs": [],
   "source": [
    "matches['w_Prct1stIn'] = matches['w_1stIn'] / matches['w_svpt']\n",
    "matches['w_Prct1stWon'] = matches['w_1stWon'] / matches['w_1stIn']\n",
    "matches['w_Prct_ace'] = matches['w_ace'] / matches['w_svpt']\n",
    "matches['w_bpWon'] = matches['l_bpFaced'] - matches['l_bpSaved']\n",
    "matches['w_1stRetpt'] = matches['l_1stIn']\n",
    "matches['w_1stRetptWon'] = matches['l_1stIn'] - matches['l_1stWon']\n",
    "matches['w_Prct1stRetptWon'] = matches['w_1stRetptWon'] / matches['l_1stIn']\n",
    "\n",
    "matches['l_Prct1stIn'] = matches['l_1stIn'] / matches['l_svpt']\n",
    "matches['l_Prct1stWon'] = matches['l_1stWon'] / matches['l_1stIn']\n",
    "matches['l_Prct_ace'] = matches['l_ace'] / matches['l_svpt']\n",
    "matches['l_bpWon'] = matches['w_bpFaced'] - matches['w_bpSaved']\n",
    "matches['l_1stRetpt'] = matches['w_1stIn']\n",
    "matches['l_1stRetptWon'] = matches['w_1stIn'] - matches['w_1stWon']\n",
    "matches['l_Prct1stRetptWon'] = matches['l_1stRetptWon'] / matches['w_1stIn']\n",
    "\n"
   ]
  },
  {
   "cell_type": "markdown",
   "metadata": {},
   "source": [
    "Поменяем порядок колонок для лучшей читаемости датафрейма:"
   ]
  },
  {
   "cell_type": "code",
   "execution_count": 213,
   "metadata": {
    "collapsed": false
   },
   "outputs": [],
   "source": [
    "matches = matches[['winner_name', 'score', 'loser_name','tourney_name', 'tourney_date', 'surface', 'round', 'minutes',\n",
    "                   'winner_rank', 'loser_rank',\n",
    "    'draw_size', 'best_of', 'tourney_level', 'match_num', 'tourney_id',\n",
    "            'winner_id', 'winner_seed', 'winner_entry', \n",
    "            'winner_hand', 'winner_ht', 'winner_ioc', 'winner_age',\n",
    "            'winner_rank_points', 'loser_id', 'loser_seed',\n",
    "       'loser_entry',  'loser_hand', 'loser_ht', 'loser_ioc',\n",
    "       'loser_age',  'loser_rank_points',\n",
    "            'w_ace', 'w_df', 'w_svpt', 'w_1stIn', 'w_1stWon',\n",
    "            'w_2ndWon', 'w_SvGms', 'w_bpSaved', 'w_bpFaced', \n",
    "        'l_ace', 'l_df', 'l_svpt', 'l_1stIn', 'l_1stWon', 'l_2ndWon', 'l_SvGms', 'l_bpSaved',\n",
    "       'l_bpFaced', \n",
    "            'w_Prct1stIn', 'w_Prct1stWon', 'w_Prct_ace', 'w_bpWon', 'w_1stRetpt', 'w_1stRetptWon', 'w_Prct1stRetptWon',\n",
    "        'l_Prct1stIn', 'l_Prct1stWon', 'l_Prct_ace', 'l_bpWon', 'l_1stRetpt', 'l_1stRetptWon',\n",
    "       'l_Prct1stRetptWon']]\n",
    "\n"
   ]
  },
  {
   "cell_type": "markdown",
   "metadata": {},
   "source": [
    "В данном датафрейме в колонках 'winner_name' и 'loser_name' можно увидеть полные имя и фамилию выигравшего и проигравшего игроков соответственно. Создадим новые колонки 'Winner' и 'Loser' с фамилией, первой буквой имени игрока и точкой после неё. В дальнейшем мы увидим, что это нам очень пригодится. "
   ]
  },
  {
   "cell_type": "code",
   "execution_count": 214,
   "metadata": {
    "collapsed": true
   },
   "outputs": [],
   "source": [
    "matches['Winner'] = matches['winner_name'].apply(lambda s: s.split()[-1] + ' ' + s[0] + '.')\n",
    "\n",
    "matches['Loser'] = matches['loser_name'].apply(lambda s: s.split()[-1] + ' ' + s[0] + '.')"
   ]
  },
  {
   "cell_type": "markdown",
   "metadata": {},
   "source": [
    "Посмотрим, как выглядят даты турниров в данном датафрейме:"
   ]
  },
  {
   "cell_type": "code",
   "execution_count": 215,
   "metadata": {
    "collapsed": false
   },
   "outputs": [
    {
     "data": {
      "text/plain": [
       "0    20000501\n",
       "1    20000501\n",
       "2    20000501\n",
       "3    20000501\n",
       "4    20000501\n",
       "Name: tourney_date, dtype: int64"
      ]
     },
     "execution_count": 215,
     "metadata": {},
     "output_type": "execute_result"
    }
   ],
   "source": [
    "matches['tourney_date'].head(5)"
   ]
  },
  {
   "cell_type": "markdown",
   "metadata": {},
   "source": [
    "Очень странный, неудобный и нечитаемый формат. Переделаем его в клаассический формат даты для работы в pandas 'datetime'. Это также поможет нам для анализа данных в дальнейшем. На всякий случай выделим день, месяц и год тоже.    \n",
    "Комментарий: важно понимать, что здесь указаны даты НАЧАЛА ТУРНИРОВ, а не самих матчей."
   ]
  },
  {
   "cell_type": "code",
   "execution_count": 216,
   "metadata": {
    "collapsed": false
   },
   "outputs": [
    {
     "data": {
      "text/html": [
       "<div>\n",
       "<table border=\"1\" class=\"dataframe\">\n",
       "  <thead>\n",
       "    <tr style=\"text-align: right;\">\n",
       "      <th></th>\n",
       "      <th>Tournament Date</th>\n",
       "      <th>Year</th>\n",
       "      <th>Month</th>\n",
       "      <th>Day</th>\n",
       "    </tr>\n",
       "  </thead>\n",
       "  <tbody>\n",
       "    <tr>\n",
       "      <th>0</th>\n",
       "      <td>2000-05-01</td>\n",
       "      <td>2000</td>\n",
       "      <td>5</td>\n",
       "      <td>1</td>\n",
       "    </tr>\n",
       "    <tr>\n",
       "      <th>1</th>\n",
       "      <td>2000-05-01</td>\n",
       "      <td>2000</td>\n",
       "      <td>5</td>\n",
       "      <td>1</td>\n",
       "    </tr>\n",
       "    <tr>\n",
       "      <th>2</th>\n",
       "      <td>2000-05-01</td>\n",
       "      <td>2000</td>\n",
       "      <td>5</td>\n",
       "      <td>1</td>\n",
       "    </tr>\n",
       "    <tr>\n",
       "      <th>3</th>\n",
       "      <td>2000-05-01</td>\n",
       "      <td>2000</td>\n",
       "      <td>5</td>\n",
       "      <td>1</td>\n",
       "    </tr>\n",
       "    <tr>\n",
       "      <th>4</th>\n",
       "      <td>2000-05-01</td>\n",
       "      <td>2000</td>\n",
       "      <td>5</td>\n",
       "      <td>1</td>\n",
       "    </tr>\n",
       "  </tbody>\n",
       "</table>\n",
       "</div>"
      ],
      "text/plain": [
       "  Tournament Date  Year  Month  Day\n",
       "0      2000-05-01  2000      5    1\n",
       "1      2000-05-01  2000      5    1\n",
       "2      2000-05-01  2000      5    1\n",
       "3      2000-05-01  2000      5    1\n",
       "4      2000-05-01  2000      5    1"
      ]
     },
     "execution_count": 216,
     "metadata": {},
     "output_type": "execute_result"
    }
   ],
   "source": [
    "matches['Tournament Date'] = pd.to_datetime(matches['tourney_date'], format='%Y%m%d')\n",
    "\n",
    "matches['Year'] = np.int_(matches['Tournament Date'].dt.year)\n",
    "matches['Month'] = np.int_(matches['Tournament Date'].dt.month)\n",
    "matches['Day'] = np.int_(matches['Tournament Date'].dt.day)\n",
    "\n",
    "matches[['Tournament Date', 'Year', 'Month', 'Day']].head()"
   ]
  },
  {
   "cell_type": "markdown",
   "metadata": {},
   "source": [
    "Проверим наше преобразование дат и посмотрим на некоторые колонки датафрейма:"
   ]
  },
  {
   "cell_type": "code",
   "execution_count": 217,
   "metadata": {
    "collapsed": false
   },
   "outputs": [
    {
     "data": {
      "text/html": [
       "<div>\n",
       "<table border=\"1\" class=\"dataframe\">\n",
       "  <thead>\n",
       "    <tr style=\"text-align: right;\">\n",
       "      <th></th>\n",
       "      <th>winner_name</th>\n",
       "      <th>score</th>\n",
       "      <th>loser_name</th>\n",
       "      <th>tourney_name</th>\n",
       "      <th>round</th>\n",
       "      <th>Tournament Date</th>\n",
       "      <th>tourney_date</th>\n",
       "    </tr>\n",
       "  </thead>\n",
       "  <tbody>\n",
       "    <tr>\n",
       "      <th>0</th>\n",
       "      <td>Antony Dupuis</td>\n",
       "      <td>3-6 7-6(6) 7-6(4)</td>\n",
       "      <td>Andrew Ilie</td>\n",
       "      <td>Orlando</td>\n",
       "      <td>R32</td>\n",
       "      <td>2000-05-01</td>\n",
       "      <td>20000501</td>\n",
       "    </tr>\n",
       "    <tr>\n",
       "      <th>1</th>\n",
       "      <td>Fernando Gonzalez</td>\n",
       "      <td>6-2 7-5</td>\n",
       "      <td>Cecil Mamiit</td>\n",
       "      <td>Orlando</td>\n",
       "      <td>R32</td>\n",
       "      <td>2000-05-01</td>\n",
       "      <td>20000501</td>\n",
       "    </tr>\n",
       "    <tr>\n",
       "      <th>2</th>\n",
       "      <td>Paradorn Srichaphan</td>\n",
       "      <td>6-1 6-3</td>\n",
       "      <td>Sebastien Lareau</td>\n",
       "      <td>Orlando</td>\n",
       "      <td>R32</td>\n",
       "      <td>2000-05-01</td>\n",
       "      <td>20000501</td>\n",
       "    </tr>\n",
       "    <tr>\n",
       "      <th>3</th>\n",
       "      <td>Jan Siemerink</td>\n",
       "      <td>4-6 6-2 7-5</td>\n",
       "      <td>Justin Gimelstob</td>\n",
       "      <td>Orlando</td>\n",
       "      <td>R32</td>\n",
       "      <td>2000-05-01</td>\n",
       "      <td>20000501</td>\n",
       "    </tr>\n",
       "    <tr>\n",
       "      <th>4</th>\n",
       "      <td>Jason Stoltenberg</td>\n",
       "      <td>6-1 6-4</td>\n",
       "      <td>Alex Lopez Moron</td>\n",
       "      <td>Orlando</td>\n",
       "      <td>R32</td>\n",
       "      <td>2000-05-01</td>\n",
       "      <td>20000501</td>\n",
       "    </tr>\n",
       "  </tbody>\n",
       "</table>\n",
       "</div>"
      ],
      "text/plain": [
       "           winner_name              score        loser_name tourney_name  \\\n",
       "0        Antony Dupuis  3-6 7-6(6) 7-6(4)       Andrew Ilie      Orlando   \n",
       "1    Fernando Gonzalez            6-2 7-5      Cecil Mamiit      Orlando   \n",
       "2  Paradorn Srichaphan            6-1 6-3  Sebastien Lareau      Orlando   \n",
       "3        Jan Siemerink        4-6 6-2 7-5  Justin Gimelstob      Orlando   \n",
       "4    Jason Stoltenberg            6-1 6-4  Alex Lopez Moron      Orlando   \n",
       "\n",
       "  round Tournament Date  tourney_date  \n",
       "0   R32      2000-05-01      20000501  \n",
       "1   R32      2000-05-01      20000501  \n",
       "2   R32      2000-05-01      20000501  \n",
       "3   R32      2000-05-01      20000501  \n",
       "4   R32      2000-05-01      20000501  "
      ]
     },
     "execution_count": 217,
     "metadata": {},
     "output_type": "execute_result"
    }
   ],
   "source": [
    "matches[['winner_name', 'score', 'loser_name', 'tourney_name', 'round', 'Tournament Date', 'tourney_date']].head()"
   ]
  },
  {
   "cell_type": "markdown",
   "metadata": {},
   "source": [
    "Ради интереса посмотрим, какие вообще раунды турниров представлены в нашем датафрейме:"
   ]
  },
  {
   "cell_type": "code",
   "execution_count": 218,
   "metadata": {
    "collapsed": false
   },
   "outputs": [
    {
     "data": {
      "text/plain": [
       "R32     16867\n",
       "R16      8868\n",
       "R64      8208\n",
       "RR       5990\n",
       "R128     5312\n",
       "QF       4451\n",
       "SF       2266\n",
       "F        1153\n",
       "BR          5\n",
       "Name: round, dtype: int64"
      ]
     },
     "execution_count": 218,
     "metadata": {},
     "output_type": "execute_result"
    }
   ],
   "source": [
    "matches['round'].value_counts()"
   ]
  },
  {
   "cell_type": "code",
   "execution_count": 219,
   "metadata": {
    "collapsed": false
   },
   "outputs": [
    {
     "data": {
      "text/html": [
       "<div>\n",
       "<table border=\"1\" class=\"dataframe\">\n",
       "  <thead>\n",
       "    <tr style=\"text-align: right;\">\n",
       "      <th></th>\n",
       "      <th>Winner</th>\n",
       "      <th>score</th>\n",
       "      <th>Loser</th>\n",
       "      <th>Tournament Date</th>\n",
       "    </tr>\n",
       "  </thead>\n",
       "  <tbody>\n",
       "    <tr>\n",
       "      <th>0</th>\n",
       "      <td>Dupuis A.</td>\n",
       "      <td>3-6 7-6(6) 7-6(4)</td>\n",
       "      <td>Ilie A.</td>\n",
       "      <td>2000-05-01</td>\n",
       "    </tr>\n",
       "    <tr>\n",
       "      <th>1</th>\n",
       "      <td>Gonzalez F.</td>\n",
       "      <td>6-2 7-5</td>\n",
       "      <td>Mamiit C.</td>\n",
       "      <td>2000-05-01</td>\n",
       "    </tr>\n",
       "    <tr>\n",
       "      <th>2</th>\n",
       "      <td>Srichaphan P.</td>\n",
       "      <td>6-1 6-3</td>\n",
       "      <td>Lareau S.</td>\n",
       "      <td>2000-05-01</td>\n",
       "    </tr>\n",
       "    <tr>\n",
       "      <th>3</th>\n",
       "      <td>Siemerink J.</td>\n",
       "      <td>4-6 6-2 7-5</td>\n",
       "      <td>Gimelstob J.</td>\n",
       "      <td>2000-05-01</td>\n",
       "    </tr>\n",
       "    <tr>\n",
       "      <th>4</th>\n",
       "      <td>Stoltenberg J.</td>\n",
       "      <td>6-1 6-4</td>\n",
       "      <td>Moron A.</td>\n",
       "      <td>2000-05-01</td>\n",
       "    </tr>\n",
       "  </tbody>\n",
       "</table>\n",
       "</div>"
      ],
      "text/plain": [
       "           Winner              score         Loser Tournament Date\n",
       "0       Dupuis A.  3-6 7-6(6) 7-6(4)       Ilie A.      2000-05-01\n",
       "1     Gonzalez F.            6-2 7-5     Mamiit C.      2000-05-01\n",
       "2   Srichaphan P.            6-1 6-3     Lareau S.      2000-05-01\n",
       "3    Siemerink J.        4-6 6-2 7-5  Gimelstob J.      2000-05-01\n",
       "4  Stoltenberg J.            6-1 6-4      Moron A.      2000-05-01"
      ]
     },
     "execution_count": 219,
     "metadata": {},
     "output_type": "execute_result"
    }
   ],
   "source": [
    "matches[['Winner', 'score', 'Loser', 'Tournament Date']].head()"
   ]
  },
  {
   "cell_type": "markdown",
   "metadata": {},
   "source": [
    "После всех преобразований посмотрим на информацию о датафрейме, чтобы понимать, с чем нам теперь придётся работать:"
   ]
  },
  {
   "cell_type": "code",
   "execution_count": 220,
   "metadata": {
    "collapsed": false
   },
   "outputs": [
    {
     "name": "stdout",
     "output_type": "stream",
     "text": [
      "<class 'pandas.core.frame.DataFrame'>\n",
      "RangeIndex: 53120 entries, 0 to 53119\n",
      "Data columns (total 69 columns):\n",
      "winner_name           53120 non-null object\n",
      "score                 53119 non-null object\n",
      "loser_name            53120 non-null object\n",
      "tourney_name          53120 non-null object\n",
      "tourney_date          53120 non-null int64\n",
      "surface               53002 non-null object\n",
      "round                 53120 non-null object\n",
      "minutes               46132 non-null float64\n",
      "winner_rank           52057 non-null float64\n",
      "loser_rank            51350 non-null float64\n",
      "draw_size             53120 non-null int64\n",
      "best_of               53120 non-null int64\n",
      "tourney_level         53120 non-null object\n",
      "match_num             53120 non-null int64\n",
      "tourney_id            53120 non-null object\n",
      "winner_id             53120 non-null int64\n",
      "winner_seed           22156 non-null float64\n",
      "winner_entry          6192 non-null object\n",
      "winner_hand           53108 non-null object\n",
      "winner_ht             49751 non-null float64\n",
      "winner_ioc            53120 non-null object\n",
      "winner_age            53102 non-null float64\n",
      "winner_rank_points    52057 non-null float64\n",
      "loser_id              53120 non-null int64\n",
      "loser_seed            11899 non-null float64\n",
      "loser_entry           10390 non-null object\n",
      "loser_hand            53093 non-null object\n",
      "loser_ht              47607 non-null float64\n",
      "loser_ioc             53120 non-null object\n",
      "loser_age             53092 non-null float64\n",
      "loser_rank_points     51350 non-null float64\n",
      "w_ace                 47366 non-null float64\n",
      "w_df                  47366 non-null float64\n",
      "w_svpt                47366 non-null float64\n",
      "w_1stIn               47366 non-null float64\n",
      "w_1stWon              47366 non-null float64\n",
      "w_2ndWon              47366 non-null float64\n",
      "w_SvGms               47366 non-null float64\n",
      "w_bpSaved             47366 non-null float64\n",
      "w_bpFaced             47366 non-null float64\n",
      "l_ace                 47366 non-null float64\n",
      "l_df                  47366 non-null float64\n",
      "l_svpt                47366 non-null float64\n",
      "l_1stIn               47366 non-null float64\n",
      "l_1stWon              47366 non-null float64\n",
      "l_2ndWon              47366 non-null float64\n",
      "l_SvGms               47366 non-null float64\n",
      "l_bpSaved             47366 non-null float64\n",
      "l_bpFaced             47366 non-null float64\n",
      "w_Prct1stIn           47358 non-null float64\n",
      "w_Prct1stWon          47358 non-null float64\n",
      "w_Prct_ace            47358 non-null float64\n",
      "w_bpWon               47366 non-null float64\n",
      "w_1stRetpt            47366 non-null float64\n",
      "w_1stRetptWon         47366 non-null float64\n",
      "w_Prct1stRetptWon     47357 non-null float64\n",
      "l_Prct1stIn           47358 non-null float64\n",
      "l_Prct1stWon          47357 non-null float64\n",
      "l_Prct_ace            47358 non-null float64\n",
      "l_bpWon               47366 non-null float64\n",
      "l_1stRetpt            47366 non-null float64\n",
      "l_1stRetptWon         47366 non-null float64\n",
      "l_Prct1stRetptWon     47358 non-null float64\n",
      "Winner                53120 non-null object\n",
      "Loser                 53120 non-null object\n",
      "Tournament Date       53120 non-null datetime64[ns]\n",
      "Year                  53120 non-null int32\n",
      "Month                 53120 non-null int32\n",
      "Day                   53120 non-null int32\n",
      "dtypes: datetime64[ns](1), float64(43), int32(3), int64(6), object(16)\n",
      "memory usage: 27.4+ MB\n"
     ]
    }
   ],
   "source": [
    "matches.info()"
   ]
  },
  {
   "cell_type": "markdown",
   "metadata": {},
   "source": [
    "Отлично! Новый датафрейм стал более читаемым и информативным."
   ]
  },
  {
   "cell_type": "markdown",
   "metadata": {
    "collapsed": false
   },
   "source": [
    "## Графики: matches\n",
    "### Визуализируем данные, которые есть в данном датафрейме"
   ]
  },
  {
   "cell_type": "code",
   "execution_count": 221,
   "metadata": {
    "collapsed": false
   },
   "outputs": [
    {
     "data": {
      "text/plain": [
       "<matplotlib.axes._subplots.AxesSubplot at 0x145552cf7b8>"
      ]
     },
     "execution_count": 221,
     "metadata": {},
     "output_type": "execute_result"
    },
    {
     "data": {
      "image/png": "[encoded data removed]",
      "text/plain": [
       "<matplotlib.figure.Figure at 0x14560524d68>"
      ]
     },
     "metadata": {},
     "output_type": "display_data"
    }
   ],
   "source": [
    "sns.distplot(matches['winner_age'].dropna(), axlabel='Winner Age')"
   ]
  },
  {
   "cell_type": "code",
   "execution_count": 222,
   "metadata": {
    "collapsed": false
   },
   "outputs": [
    {
     "data": {
      "text/plain": [
       "<matplotlib.axes._subplots.AxesSubplot at 0x14569b49940>"
      ]
     },
     "execution_count": 222,
     "metadata": {},
     "output_type": "execute_result"
    },
    {
     "data": {
      "image/png": "[encoded data removed]",
      "text/plain": [
       "<matplotlib.figure.Figure at 0x1456050bef0>"
      ]
     },
     "metadata": {},
     "output_type": "display_data"
    }
   ],
   "source": [
    "sns.distplot(matches['loser_age'].dropna(), axlabel='Loser Age')"
   ]
  },
  {
   "cell_type": "code",
   "execution_count": 223,
   "metadata": {
    "collapsed": false
   },
   "outputs": [
    {
     "data": {
      "text/plain": [
       "<seaborn.axisgrid.JointGrid at 0x145520ee470>"
      ]
     },
     "execution_count": 223,
     "metadata": {},
     "output_type": "execute_result"
    },
    {
     "data": {
      "image/png": "[encoded data removed]",
      "text/plain": [
       "<matplotlib.figure.Figure at 0x145520ea748>"
      ]
     },
     "metadata": {},
     "output_type": "display_data"
    }
   ],
   "source": [
    "sns.jointplot(matches['winner_rank'].dropna(), matches['minutes'].dropna())"
   ]
  },
  {
   "cell_type": "markdown",
   "metadata": {},
   "source": [
    "Посмотрим, какие игроки за 2000-2016 гг. выиграли больше всех матчей:"
   ]
  },
  {
   "cell_type": "code",
   "execution_count": 224,
   "metadata": {
    "collapsed": false
   },
   "outputs": [
    {
     "name": "stdout",
     "output_type": "stream",
     "text": [
      "Roger Federer        1075\n",
      "Rafael Nadal          814\n",
      "Novak Djokovic        761\n",
      "David Ferrer          698\n",
      "Andy Murray           638\n",
      "Andy Roddick          614\n",
      "Tomas Berdych         582\n",
      "Lleyton Hewitt        564\n",
      "Tommy Robredo         525\n",
      "Nikolay Davydenko     484\n",
      "Name: winner_name, dtype: int64\n"
     ]
    }
   ],
   "source": [
    "best_winners = matches['winner_name'].value_counts()[:10]\n",
    "print(best_winners)"
   ]
  },
  {
   "cell_type": "markdown",
   "metadata": {},
   "source": [
    "Конечно, данный список можно оформить в более красивом виде:"
   ]
  },
  {
   "cell_type": "code",
   "execution_count": 225,
   "metadata": {
    "collapsed": false
   },
   "outputs": [
    {
     "data": {
      "text/plain": [
       "<matplotlib.axes._subplots.AxesSubplot at 0x14555538978>"
      ]
     },
     "execution_count": 225,
     "metadata": {},
     "output_type": "execute_result"
    },
    {
     "data": {
      "image/png": "[encoded data removed]",
      "text/plain": [
       "<matplotlib.figure.Figure at 0x1455585ecf8>"
      ]
     },
     "metadata": {},
     "output_type": "display_data"
    }
   ],
   "source": [
    "best_winners.plot(kind='bar', figsize=(15,8), color='red')"
   ]
  },
  {
   "cell_type": "markdown",
   "metadata": {},
   "source": [
    "Теперь посмотрим на проигравших:"
   ]
  },
  {
   "cell_type": "code",
   "execution_count": 226,
   "metadata": {
    "collapsed": false
   },
   "outputs": [
    {
     "name": "stdout",
     "output_type": "stream",
     "text": [
      "Mikhail Youzhny          384\n",
      "Feliciano Lopez          383\n",
      "Jarkko Nieminen          349\n",
      "Tommy Robredo            345\n",
      "Nikolay Davydenko        338\n",
      "Fernando Verdasco        336\n",
      "David Ferrer             334\n",
      "Andreas Seppi            332\n",
      "Jurgen Melzer            332\n",
      "Philipp Kohlschreiber    313\n",
      "Name: loser_name, dtype: int64\n"
     ]
    }
   ],
   "source": [
    "best_losers = matches['loser_name'].value_counts()[:10]\n",
    "print(best_losers)"
   ]
  },
  {
   "cell_type": "code",
   "execution_count": 227,
   "metadata": {
    "collapsed": false
   },
   "outputs": [
    {
     "data": {
      "text/plain": [
       "<matplotlib.axes._subplots.AxesSubplot at 0x14555782da0>"
      ]
     },
     "execution_count": 227,
     "metadata": {},
     "output_type": "execute_result"
    },
    {
     "data": {
      "image/png": "[encoded data removed]",
      "text/plain": [
       "<matplotlib.figure.Figure at 0x14556c0e2e8>"
      ]
     },
     "metadata": {},
     "output_type": "display_data"
    }
   ],
   "source": [
    "best_losers.plot(kind='bar', figsize=(15,8), color='g')"
   ]
  },
  {
   "cell_type": "code",
   "execution_count": 228,
   "metadata": {
    "collapsed": false
   },
   "outputs": [
    {
     "data": {
      "image/png": "[encoded data removed]",
      "text/plain": [
       "<matplotlib.figure.Figure at 0x1455e86fe10>"
      ]
     },
     "metadata": {},
     "output_type": "display_data"
    }
   ],
   "source": [
    "import numpy as np\n",
    "import matplotlib.pyplot as plt\n",
    "\n",
    "x = matches.w_svpt\n",
    "y = matches.w_Prct1stIn\n",
    "\n",
    "plt.xlabel('Served Points')\n",
    "plt.ylabel('1st Serve In Percentage')\n",
    "\n",
    "plt.hexbin(x, y, edgecolors='g')\n",
    "\n",
    "plt.show()\n"
   ]
  },
  {
   "cell_type": "code",
   "execution_count": 229,
   "metadata": {
    "collapsed": false
   },
   "outputs": [
    {
     "data": {
      "text/plain": [
       "[<matplotlib.lines.Line2D at 0x14558c698d0>]"
      ]
     },
     "execution_count": 229,
     "metadata": {},
     "output_type": "execute_result"
    },
    {
     "data": {
      "image/png": "[encoded data removed]",
      "text/plain": [
       "<matplotlib.figure.Figure at 0x145589b35c0>"
      ]
     },
     "metadata": {},
     "output_type": "display_data"
    }
   ],
   "source": [
    "x = matches.w_svpt\n",
    "y = matches.w_Prct1stIn \n",
    "plot(x, y, 'o')"
   ]
  },
  {
   "cell_type": "code",
   "execution_count": 230,
   "metadata": {
    "collapsed": false
   },
   "outputs": [
    {
     "data": {
      "text/plain": [
       "[<matplotlib.lines.Line2D at 0x14558cd1f60>]"
      ]
     },
     "execution_count": 230,
     "metadata": {},
     "output_type": "execute_result"
    },
    {
     "data": {
      "image/png": "[encoded data removed]",
      "text/plain": [
       "<matplotlib.figure.Figure at 0x14558c7d080>"
      ]
     },
     "metadata": {},
     "output_type": "display_data"
    }
   ],
   "source": [
    "x = matches.w_Prct1stRetptWon\n",
    "y = matches.l_Prct1stRetptWon\n",
    "plot(x, y, 'o')"
   ]
  },
  {
   "cell_type": "code",
   "execution_count": 231,
   "metadata": {
    "collapsed": false
   },
   "outputs": [
    {
     "data": {
      "text/plain": [
       "<matplotlib.collections.PathCollection at 0x14558d35b00>"
      ]
     },
     "execution_count": 231,
     "metadata": {},
     "output_type": "execute_result"
    },
    {
     "data": {
      "image/png": "[encoded data removed]",
      "text/plain": [
       "<matplotlib.figure.Figure at 0x14558cf1f98>"
      ]
     },
     "metadata": {},
     "output_type": "display_data"
    }
   ],
   "source": [
    "x = matches.w_Prct1stWon\n",
    "y = matches.l_Prct1stWon\n",
    "plt.scatter(x, y)"
   ]
  },
  {
   "cell_type": "markdown",
   "metadata": {},
   "source": [
    "Графиков будет больше!"
   ]
  },
  {
   "cell_type": "markdown",
   "metadata": {},
   "source": [
    "## Работа с букмекерскими ставками на теннисные матчи"
   ]
  },
  {
   "cell_type": "markdown",
   "metadata": {},
   "source": [
    "Прочитаем файлы со ставками за 2001-2016 года.    \n",
    "\n",
    "*Данные взяты с http://www.tennis-data.co.uk/alldata.php."
   ]
  },
  {
   "cell_type": "code",
   "execution_count": 232,
   "metadata": {
    "collapsed": false
   },
   "outputs": [],
   "source": [
    "bets_2001 = pd.read_excel('2001.xls')\n",
    "bets_2002 = pd.read_excel('2002.xls')\n",
    "bets_2003 = pd.read_excel('2003.xls')\n",
    "bets_2004 = pd.read_excel('2004.xls')\n",
    "bets_2005 = pd.read_excel('2005.xls')\n",
    "bets_2006 = pd.read_excel('2006.xls')\n",
    "bets_2007 = pd.read_excel('2007.xls')\n",
    "bets_2008 = pd.read_excel('2008.xls')\n",
    "bets_2009 = pd.read_excel('2009.xls')\n",
    "bets_2010 = pd.read_excel('2010.xls')\n",
    "bets_2011 = pd.read_excel('2011.xls')\n",
    "bets_2012 = pd.read_excel('2012.xls')\n",
    "bets_2013 = pd.read_excel('2013.xls')\n",
    "bets_2014 = pd.read_excel('2014.xls')\n",
    "bets_2015 = pd.read_excel('2015.xls')\n",
    "bets_2016 = pd.read_excel('2016.xls')"
   ]
  },
  {
   "cell_type": "markdown",
   "metadata": {},
   "source": [
    "Объединим все датафреймы со ставками в один:"
   ]
  },
  {
   "cell_type": "code",
   "execution_count": 233,
   "metadata": {
    "collapsed": false
   },
   "outputs": [
    {
     "data": {
      "text/html": [
       "<div>\n",
       "<table border=\"1\" class=\"dataframe\">\n",
       "  <thead>\n",
       "    <tr style=\"text-align: right;\">\n",
       "      <th></th>\n",
       "      <th>ATP</th>\n",
       "      <th>AvgL</th>\n",
       "      <th>AvgW</th>\n",
       "      <th>B&amp;WL</th>\n",
       "      <th>B&amp;WW</th>\n",
       "      <th>B365L</th>\n",
       "      <th>B365W</th>\n",
       "      <th>Best of</th>\n",
       "      <th>CBL</th>\n",
       "      <th>CBW</th>\n",
       "      <th>...</th>\n",
       "      <th>Venue</th>\n",
       "      <th>W1</th>\n",
       "      <th>W2</th>\n",
       "      <th>W3</th>\n",
       "      <th>W4</th>\n",
       "      <th>W5</th>\n",
       "      <th>WPts</th>\n",
       "      <th>WRank</th>\n",
       "      <th>Winner</th>\n",
       "      <th>Wsets</th>\n",
       "    </tr>\n",
       "  </thead>\n",
       "  <tbody>\n",
       "    <tr>\n",
       "      <th>0</th>\n",
       "      <td>1</td>\n",
       "      <td>NaN</td>\n",
       "      <td>NaN</td>\n",
       "      <td>NaN</td>\n",
       "      <td>NaN</td>\n",
       "      <td>NaN</td>\n",
       "      <td>NaN</td>\n",
       "      <td>3.0</td>\n",
       "      <td>NaN</td>\n",
       "      <td>NaN</td>\n",
       "      <td>...</td>\n",
       "      <td>NaN</td>\n",
       "      <td>6.0</td>\n",
       "      <td>6</td>\n",
       "      <td>6</td>\n",
       "      <td>NaN</td>\n",
       "      <td>NaN</td>\n",
       "      <td>NaN</td>\n",
       "      <td>18.0</td>\n",
       "      <td>Clement A.</td>\n",
       "      <td>2.0</td>\n",
       "    </tr>\n",
       "    <tr>\n",
       "      <th>1</th>\n",
       "      <td>1</td>\n",
       "      <td>NaN</td>\n",
       "      <td>NaN</td>\n",
       "      <td>NaN</td>\n",
       "      <td>NaN</td>\n",
       "      <td>NaN</td>\n",
       "      <td>NaN</td>\n",
       "      <td>3.0</td>\n",
       "      <td>NaN</td>\n",
       "      <td>NaN</td>\n",
       "      <td>...</td>\n",
       "      <td>NaN</td>\n",
       "      <td>6.0</td>\n",
       "      <td>6</td>\n",
       "      <td>NaN</td>\n",
       "      <td>NaN</td>\n",
       "      <td>NaN</td>\n",
       "      <td>NaN</td>\n",
       "      <td>81.0</td>\n",
       "      <td>Goldstein P.</td>\n",
       "      <td>2.0</td>\n",
       "    </tr>\n",
       "    <tr>\n",
       "      <th>2</th>\n",
       "      <td>1</td>\n",
       "      <td>NaN</td>\n",
       "      <td>NaN</td>\n",
       "      <td>NaN</td>\n",
       "      <td>NaN</td>\n",
       "      <td>NaN</td>\n",
       "      <td>NaN</td>\n",
       "      <td>3.0</td>\n",
       "      <td>NaN</td>\n",
       "      <td>NaN</td>\n",
       "      <td>...</td>\n",
       "      <td>NaN</td>\n",
       "      <td>6.0</td>\n",
       "      <td>6</td>\n",
       "      <td>NaN</td>\n",
       "      <td>NaN</td>\n",
       "      <td>NaN</td>\n",
       "      <td>NaN</td>\n",
       "      <td>23.0</td>\n",
       "      <td>Haas T.</td>\n",
       "      <td>2.0</td>\n",
       "    </tr>\n",
       "    <tr>\n",
       "      <th>3</th>\n",
       "      <td>1</td>\n",
       "      <td>NaN</td>\n",
       "      <td>NaN</td>\n",
       "      <td>NaN</td>\n",
       "      <td>NaN</td>\n",
       "      <td>NaN</td>\n",
       "      <td>NaN</td>\n",
       "      <td>3.0</td>\n",
       "      <td>NaN</td>\n",
       "      <td>NaN</td>\n",
       "      <td>...</td>\n",
       "      <td>NaN</td>\n",
       "      <td>6.0</td>\n",
       "      <td>7</td>\n",
       "      <td>NaN</td>\n",
       "      <td>NaN</td>\n",
       "      <td>NaN</td>\n",
       "      <td>NaN</td>\n",
       "      <td>10.0</td>\n",
       "      <td>Henman T.</td>\n",
       "      <td>2.0</td>\n",
       "    </tr>\n",
       "    <tr>\n",
       "      <th>4</th>\n",
       "      <td>1</td>\n",
       "      <td>NaN</td>\n",
       "      <td>NaN</td>\n",
       "      <td>NaN</td>\n",
       "      <td>NaN</td>\n",
       "      <td>NaN</td>\n",
       "      <td>NaN</td>\n",
       "      <td>3.0</td>\n",
       "      <td>3.3</td>\n",
       "      <td>1.28</td>\n",
       "      <td>...</td>\n",
       "      <td>NaN</td>\n",
       "      <td>6.0</td>\n",
       "      <td>6</td>\n",
       "      <td>NaN</td>\n",
       "      <td>NaN</td>\n",
       "      <td>NaN</td>\n",
       "      <td>NaN</td>\n",
       "      <td>7.0</td>\n",
       "      <td>Hewitt L.</td>\n",
       "      <td>2.0</td>\n",
       "    </tr>\n",
       "  </tbody>\n",
       "</table>\n",
       "<p>5 rows × 57 columns</p>\n",
       "</div>"
      ],
      "text/plain": [
       "   ATP  AvgL  AvgW  B&WL  B&WW  B365L  B365W  Best of  CBL   CBW  ...   Venue  \\\n",
       "0    1   NaN   NaN   NaN   NaN    NaN    NaN      3.0  NaN   NaN  ...     NaN   \n",
       "1    1   NaN   NaN   NaN   NaN    NaN    NaN      3.0  NaN   NaN  ...     NaN   \n",
       "2    1   NaN   NaN   NaN   NaN    NaN    NaN      3.0  NaN   NaN  ...     NaN   \n",
       "3    1   NaN   NaN   NaN   NaN    NaN    NaN      3.0  NaN   NaN  ...     NaN   \n",
       "4    1   NaN   NaN   NaN   NaN    NaN    NaN      3.0  3.3  1.28  ...     NaN   \n",
       "\n",
       "    W1 W2   W3  W4  W5  WPts  WRank        Winner  Wsets  \n",
       "0  6.0  6    6 NaN NaN   NaN   18.0    Clement A.    2.0  \n",
       "1  6.0  6  NaN NaN NaN   NaN   81.0  Goldstein P.    2.0  \n",
       "2  6.0  6  NaN NaN NaN   NaN   23.0       Haas T.    2.0  \n",
       "3  6.0  7  NaN NaN NaN   NaN   10.0     Henman T.    2.0  \n",
       "4  6.0  6  NaN NaN NaN   NaN    7.0     Hewitt L.    2.0  \n",
       "\n",
       "[5 rows x 57 columns]"
      ]
     },
     "execution_count": 233,
     "metadata": {},
     "output_type": "execute_result"
    }
   ],
   "source": [
    "all_bets = pd.concat([bets_2001, bets_2002, bets_2003, bets_2004, bets_2005, bets_2006, bets_2007, bets_2008, bets_2009,\n",
    "          bets_2010, bets_2011, bets_2012, bets_2013, bets_2014, bets_2015, bets_2016])\n",
    "all_bets.head()"
   ]
  },
  {
   "cell_type": "code",
   "execution_count": 234,
   "metadata": {
    "collapsed": false
   },
   "outputs": [
    {
     "data": {
      "text/html": [
       "<div>\n",
       "<table border=\"1\" class=\"dataframe\">\n",
       "  <thead>\n",
       "    <tr style=\"text-align: right;\">\n",
       "      <th></th>\n",
       "      <th>ATP</th>\n",
       "      <th>AvgL</th>\n",
       "      <th>AvgW</th>\n",
       "      <th>B&amp;WL</th>\n",
       "      <th>B&amp;WW</th>\n",
       "      <th>B365L</th>\n",
       "      <th>B365W</th>\n",
       "      <th>Best of</th>\n",
       "      <th>CBL</th>\n",
       "      <th>CBW</th>\n",
       "      <th>...</th>\n",
       "      <th>Venue</th>\n",
       "      <th>W1</th>\n",
       "      <th>W2</th>\n",
       "      <th>W3</th>\n",
       "      <th>W4</th>\n",
       "      <th>W5</th>\n",
       "      <th>WPts</th>\n",
       "      <th>WRank</th>\n",
       "      <th>Winner</th>\n",
       "      <th>Wsets</th>\n",
       "    </tr>\n",
       "  </thead>\n",
       "  <tbody>\n",
       "    <tr>\n",
       "      <th>2621</th>\n",
       "      <td>66</td>\n",
       "      <td>3.68</td>\n",
       "      <td>1.28</td>\n",
       "      <td>NaN</td>\n",
       "      <td>NaN</td>\n",
       "      <td>3.75</td>\n",
       "      <td>1.28</td>\n",
       "      <td>3.0</td>\n",
       "      <td>NaN</td>\n",
       "      <td>NaN</td>\n",
       "      <td>...</td>\n",
       "      <td>NaN</td>\n",
       "      <td>6.0</td>\n",
       "      <td>6</td>\n",
       "      <td>NaN</td>\n",
       "      <td>NaN</td>\n",
       "      <td>NaN</td>\n",
       "      <td>11185.0</td>\n",
       "      <td>1.0</td>\n",
       "      <td>Murray A.</td>\n",
       "      <td>2.0</td>\n",
       "    </tr>\n",
       "    <tr>\n",
       "      <th>2622</th>\n",
       "      <td>66</td>\n",
       "      <td>1.56</td>\n",
       "      <td>2.41</td>\n",
       "      <td>NaN</td>\n",
       "      <td>NaN</td>\n",
       "      <td>1.57</td>\n",
       "      <td>2.37</td>\n",
       "      <td>3.0</td>\n",
       "      <td>NaN</td>\n",
       "      <td>NaN</td>\n",
       "      <td>...</td>\n",
       "      <td>NaN</td>\n",
       "      <td>3.0</td>\n",
       "      <td>6</td>\n",
       "      <td>6</td>\n",
       "      <td>NaN</td>\n",
       "      <td>NaN</td>\n",
       "      <td>3450.0</td>\n",
       "      <td>7.0</td>\n",
       "      <td>Cilic M.</td>\n",
       "      <td>2.0</td>\n",
       "    </tr>\n",
       "    <tr>\n",
       "      <th>2623</th>\n",
       "      <td>66</td>\n",
       "      <td>4.28</td>\n",
       "      <td>1.22</td>\n",
       "      <td>NaN</td>\n",
       "      <td>NaN</td>\n",
       "      <td>4.50</td>\n",
       "      <td>1.20</td>\n",
       "      <td>3.0</td>\n",
       "      <td>NaN</td>\n",
       "      <td>NaN</td>\n",
       "      <td>...</td>\n",
       "      <td>NaN</td>\n",
       "      <td>5.0</td>\n",
       "      <td>7</td>\n",
       "      <td>7</td>\n",
       "      <td>NaN</td>\n",
       "      <td>NaN</td>\n",
       "      <td>11185.0</td>\n",
       "      <td>1.0</td>\n",
       "      <td>Murray A.</td>\n",
       "      <td>2.0</td>\n",
       "    </tr>\n",
       "    <tr>\n",
       "      <th>2624</th>\n",
       "      <td>66</td>\n",
       "      <td>4.20</td>\n",
       "      <td>1.23</td>\n",
       "      <td>NaN</td>\n",
       "      <td>NaN</td>\n",
       "      <td>4.33</td>\n",
       "      <td>1.22</td>\n",
       "      <td>3.0</td>\n",
       "      <td>NaN</td>\n",
       "      <td>NaN</td>\n",
       "      <td>...</td>\n",
       "      <td>NaN</td>\n",
       "      <td>6.0</td>\n",
       "      <td>6</td>\n",
       "      <td>NaN</td>\n",
       "      <td>NaN</td>\n",
       "      <td>NaN</td>\n",
       "      <td>10780.0</td>\n",
       "      <td>2.0</td>\n",
       "      <td>Djokovic N.</td>\n",
       "      <td>2.0</td>\n",
       "    </tr>\n",
       "    <tr>\n",
       "      <th>2625</th>\n",
       "      <td>66</td>\n",
       "      <td>1.50</td>\n",
       "      <td>2.60</td>\n",
       "      <td>NaN</td>\n",
       "      <td>NaN</td>\n",
       "      <td>1.53</td>\n",
       "      <td>2.50</td>\n",
       "      <td>3.0</td>\n",
       "      <td>NaN</td>\n",
       "      <td>NaN</td>\n",
       "      <td>...</td>\n",
       "      <td>NaN</td>\n",
       "      <td>6.0</td>\n",
       "      <td>6</td>\n",
       "      <td>NaN</td>\n",
       "      <td>NaN</td>\n",
       "      <td>NaN</td>\n",
       "      <td>11185.0</td>\n",
       "      <td>1.0</td>\n",
       "      <td>Murray A.</td>\n",
       "      <td>2.0</td>\n",
       "    </tr>\n",
       "  </tbody>\n",
       "</table>\n",
       "<p>5 rows × 57 columns</p>\n",
       "</div>"
      ],
      "text/plain": [
       "      ATP  AvgL  AvgW  B&WL  B&WW  B365L  B365W  Best of  CBL  CBW  ...    \\\n",
       "2621   66  3.68  1.28   NaN   NaN   3.75   1.28      3.0  NaN  NaN  ...     \n",
       "2622   66  1.56  2.41   NaN   NaN   1.57   2.37      3.0  NaN  NaN  ...     \n",
       "2623   66  4.28  1.22   NaN   NaN   4.50   1.20      3.0  NaN  NaN  ...     \n",
       "2624   66  4.20  1.23   NaN   NaN   4.33   1.22      3.0  NaN  NaN  ...     \n",
       "2625   66  1.50  2.60   NaN   NaN   1.53   2.50      3.0  NaN  NaN  ...     \n",
       "\n",
       "     Venue   W1 W2   W3  W4  W5     WPts  WRank       Winner  Wsets  \n",
       "2621   NaN  6.0  6  NaN NaN NaN  11185.0    1.0    Murray A.    2.0  \n",
       "2622   NaN  3.0  6    6 NaN NaN   3450.0    7.0     Cilic M.    2.0  \n",
       "2623   NaN  5.0  7    7 NaN NaN  11185.0    1.0    Murray A.    2.0  \n",
       "2624   NaN  6.0  6  NaN NaN NaN  10780.0    2.0  Djokovic N.    2.0  \n",
       "2625   NaN  6.0  6  NaN NaN NaN  11185.0    1.0    Murray A.    2.0  \n",
       "\n",
       "[5 rows x 57 columns]"
      ]
     },
     "execution_count": 234,
     "metadata": {},
     "output_type": "execute_result"
    }
   ],
   "source": [
    "all_bets.tail()"
   ]
  },
  {
   "cell_type": "code",
   "execution_count": 235,
   "metadata": {
    "collapsed": false
   },
   "outputs": [
    {
     "data": {
      "text/plain": [
       "36311"
      ]
     },
     "execution_count": 235,
     "metadata": {},
     "output_type": "execute_result"
    }
   ],
   "source": [
    "len(all_bets.index)"
   ]
  },
  {
   "cell_type": "markdown",
   "metadata": {},
   "source": [
    "Выше мы видим очень странную нумерацию: конец датафрейма заканчивается на номере 2625, хотя число строк в датафрейме равно 36311.    \n",
    "Чтобы исправить это недочёт, переиндексируем строки:"
   ]
  },
  {
   "cell_type": "code",
   "execution_count": 236,
   "metadata": {
    "collapsed": true
   },
   "outputs": [],
   "source": [
    "all_bets.index = range(len(all_bets.index))"
   ]
  },
  {
   "cell_type": "code",
   "execution_count": 237,
   "metadata": {
    "collapsed": false
   },
   "outputs": [
    {
     "data": {
      "text/html": [
       "<div>\n",
       "<table border=\"1\" class=\"dataframe\">\n",
       "  <thead>\n",
       "    <tr style=\"text-align: right;\">\n",
       "      <th></th>\n",
       "      <th>ATP</th>\n",
       "      <th>AvgL</th>\n",
       "      <th>AvgW</th>\n",
       "      <th>B&amp;WL</th>\n",
       "      <th>B&amp;WW</th>\n",
       "      <th>B365L</th>\n",
       "      <th>B365W</th>\n",
       "      <th>Best of</th>\n",
       "      <th>CBL</th>\n",
       "      <th>CBW</th>\n",
       "      <th>...</th>\n",
       "      <th>Venue</th>\n",
       "      <th>W1</th>\n",
       "      <th>W2</th>\n",
       "      <th>W3</th>\n",
       "      <th>W4</th>\n",
       "      <th>W5</th>\n",
       "      <th>WPts</th>\n",
       "      <th>WRank</th>\n",
       "      <th>Winner</th>\n",
       "      <th>Wsets</th>\n",
       "    </tr>\n",
       "  </thead>\n",
       "  <tbody>\n",
       "    <tr>\n",
       "      <th>36306</th>\n",
       "      <td>66</td>\n",
       "      <td>3.68</td>\n",
       "      <td>1.28</td>\n",
       "      <td>NaN</td>\n",
       "      <td>NaN</td>\n",
       "      <td>3.75</td>\n",
       "      <td>1.28</td>\n",
       "      <td>3.0</td>\n",
       "      <td>NaN</td>\n",
       "      <td>NaN</td>\n",
       "      <td>...</td>\n",
       "      <td>NaN</td>\n",
       "      <td>6.0</td>\n",
       "      <td>6</td>\n",
       "      <td>NaN</td>\n",
       "      <td>NaN</td>\n",
       "      <td>NaN</td>\n",
       "      <td>11185.0</td>\n",
       "      <td>1.0</td>\n",
       "      <td>Murray A.</td>\n",
       "      <td>2.0</td>\n",
       "    </tr>\n",
       "    <tr>\n",
       "      <th>36307</th>\n",
       "      <td>66</td>\n",
       "      <td>1.56</td>\n",
       "      <td>2.41</td>\n",
       "      <td>NaN</td>\n",
       "      <td>NaN</td>\n",
       "      <td>1.57</td>\n",
       "      <td>2.37</td>\n",
       "      <td>3.0</td>\n",
       "      <td>NaN</td>\n",
       "      <td>NaN</td>\n",
       "      <td>...</td>\n",
       "      <td>NaN</td>\n",
       "      <td>3.0</td>\n",
       "      <td>6</td>\n",
       "      <td>6</td>\n",
       "      <td>NaN</td>\n",
       "      <td>NaN</td>\n",
       "      <td>3450.0</td>\n",
       "      <td>7.0</td>\n",
       "      <td>Cilic M.</td>\n",
       "      <td>2.0</td>\n",
       "    </tr>\n",
       "    <tr>\n",
       "      <th>36308</th>\n",
       "      <td>66</td>\n",
       "      <td>4.28</td>\n",
       "      <td>1.22</td>\n",
       "      <td>NaN</td>\n",
       "      <td>NaN</td>\n",
       "      <td>4.50</td>\n",
       "      <td>1.20</td>\n",
       "      <td>3.0</td>\n",
       "      <td>NaN</td>\n",
       "      <td>NaN</td>\n",
       "      <td>...</td>\n",
       "      <td>NaN</td>\n",
       "      <td>5.0</td>\n",
       "      <td>7</td>\n",
       "      <td>7</td>\n",
       "      <td>NaN</td>\n",
       "      <td>NaN</td>\n",
       "      <td>11185.0</td>\n",
       "      <td>1.0</td>\n",
       "      <td>Murray A.</td>\n",
       "      <td>2.0</td>\n",
       "    </tr>\n",
       "    <tr>\n",
       "      <th>36309</th>\n",
       "      <td>66</td>\n",
       "      <td>4.20</td>\n",
       "      <td>1.23</td>\n",
       "      <td>NaN</td>\n",
       "      <td>NaN</td>\n",
       "      <td>4.33</td>\n",
       "      <td>1.22</td>\n",
       "      <td>3.0</td>\n",
       "      <td>NaN</td>\n",
       "      <td>NaN</td>\n",
       "      <td>...</td>\n",
       "      <td>NaN</td>\n",
       "      <td>6.0</td>\n",
       "      <td>6</td>\n",
       "      <td>NaN</td>\n",
       "      <td>NaN</td>\n",
       "      <td>NaN</td>\n",
       "      <td>10780.0</td>\n",
       "      <td>2.0</td>\n",
       "      <td>Djokovic N.</td>\n",
       "      <td>2.0</td>\n",
       "    </tr>\n",
       "    <tr>\n",
       "      <th>36310</th>\n",
       "      <td>66</td>\n",
       "      <td>1.50</td>\n",
       "      <td>2.60</td>\n",
       "      <td>NaN</td>\n",
       "      <td>NaN</td>\n",
       "      <td>1.53</td>\n",
       "      <td>2.50</td>\n",
       "      <td>3.0</td>\n",
       "      <td>NaN</td>\n",
       "      <td>NaN</td>\n",
       "      <td>...</td>\n",
       "      <td>NaN</td>\n",
       "      <td>6.0</td>\n",
       "      <td>6</td>\n",
       "      <td>NaN</td>\n",
       "      <td>NaN</td>\n",
       "      <td>NaN</td>\n",
       "      <td>11185.0</td>\n",
       "      <td>1.0</td>\n",
       "      <td>Murray A.</td>\n",
       "      <td>2.0</td>\n",
       "    </tr>\n",
       "  </tbody>\n",
       "</table>\n",
       "<p>5 rows × 57 columns</p>\n",
       "</div>"
      ],
      "text/plain": [
       "       ATP  AvgL  AvgW  B&WL  B&WW  B365L  B365W  Best of  CBL  CBW  ...    \\\n",
       "36306   66  3.68  1.28   NaN   NaN   3.75   1.28      3.0  NaN  NaN  ...     \n",
       "36307   66  1.56  2.41   NaN   NaN   1.57   2.37      3.0  NaN  NaN  ...     \n",
       "36308   66  4.28  1.22   NaN   NaN   4.50   1.20      3.0  NaN  NaN  ...     \n",
       "36309   66  4.20  1.23   NaN   NaN   4.33   1.22      3.0  NaN  NaN  ...     \n",
       "36310   66  1.50  2.60   NaN   NaN   1.53   2.50      3.0  NaN  NaN  ...     \n",
       "\n",
       "      Venue   W1 W2   W3  W4  W5     WPts  WRank       Winner  Wsets  \n",
       "36306   NaN  6.0  6  NaN NaN NaN  11185.0    1.0    Murray A.    2.0  \n",
       "36307   NaN  3.0  6    6 NaN NaN   3450.0    7.0     Cilic M.    2.0  \n",
       "36308   NaN  5.0  7    7 NaN NaN  11185.0    1.0    Murray A.    2.0  \n",
       "36309   NaN  6.0  6  NaN NaN NaN  10780.0    2.0  Djokovic N.    2.0  \n",
       "36310   NaN  6.0  6  NaN NaN NaN  11185.0    1.0    Murray A.    2.0  \n",
       "\n",
       "[5 rows x 57 columns]"
      ]
     },
     "execution_count": 237,
     "metadata": {},
     "output_type": "execute_result"
    }
   ],
   "source": [
    "all_bets.tail()"
   ]
  },
  {
   "cell_type": "markdown",
   "metadata": {},
   "source": [
    "Так лучше!"
   ]
  },
  {
   "cell_type": "markdown",
   "metadata": {},
   "source": [
    "Посмотрим информацию о датафрейме 'all_bets':"
   ]
  },
  {
   "cell_type": "code",
   "execution_count": 238,
   "metadata": {
    "collapsed": false
   },
   "outputs": [
    {
     "name": "stdout",
     "output_type": "stream",
     "text": [
      "<class 'pandas.core.frame.DataFrame'>\n",
      "RangeIndex: 36311 entries, 0 to 36310\n",
      "Data columns (total 57 columns):\n",
      "ATP           36311 non-null int64\n",
      "AvgL          10480 non-null float64\n",
      "AvgW          10480 non-null float64\n",
      "B&WL          1097 non-null float64\n",
      "B&WW          1097 non-null float64\n",
      "B365L         30497 non-null float64\n",
      "B365W         30493 non-null float64\n",
      "Best of       36104 non-null float64\n",
      "CBL           17507 non-null float64\n",
      "CBW           17507 non-null float64\n",
      "Comment       36104 non-null object\n",
      "Court         36311 non-null object\n",
      "Date          36104 non-null datetime64[ns]\n",
      "EXL           26384 non-null float64\n",
      "EXW           26379 non-null object\n",
      "GBL           5055 non-null float64\n",
      "GBW           5055 non-null float64\n",
      "IWL           13358 non-null float64\n",
      "IWW           13358 non-null float64\n",
      "L1            35931 non-null float64\n",
      "L2            35578 non-null object\n",
      "L3            16643 non-null object\n",
      "L4            3234 non-null float64\n",
      "L5            1245 non-null float64\n",
      "LBL           15722 non-null float64\n",
      "LBW           15719 non-null float64\n",
      "LPts          22821 non-null float64\n",
      "LRank         36044 non-null object\n",
      "Location      36311 non-null object\n",
      "Loser         36104 non-null object\n",
      "Lsets         35957 non-null object\n",
      "MaxL          10480 non-null float64\n",
      "MaxW          10480 non-null float64\n",
      "PSL           24202 non-null float64\n",
      "PSW           24202 non-null float64\n",
      "Players       207 non-null float64\n",
      "Round         36104 non-null object\n",
      "SBL           5424 non-null float64\n",
      "SBW           5424 non-null float64\n",
      "SJL           7747 non-null float64\n",
      "SJW           7747 non-null float64\n",
      "Series        36311 non-null object\n",
      "Start Date    207 non-null datetime64[ns]\n",
      "Surface       36311 non-null object\n",
      "Tournament    36104 non-null object\n",
      "UBL           10672 non-null float64\n",
      "UBW           10672 non-null float64\n",
      "Venue         207 non-null object\n",
      "W1            35931 non-null float64\n",
      "W2            35577 non-null object\n",
      "W3            16644 non-null object\n",
      "W4            3234 non-null float64\n",
      "W5            1245 non-null float64\n",
      "WPts          22864 non-null float64\n",
      "WRank         36091 non-null float64\n",
      "Winner        36104 non-null object\n",
      "Wsets         35956 non-null float64\n",
      "dtypes: datetime64[ns](2), float64(37), int64(1), object(17)\n",
      "memory usage: 15.8+ MB\n"
     ]
    }
   ],
   "source": [
    "all_bets.info()"
   ]
  },
  {
   "cell_type": "markdown",
   "metadata": {},
   "source": [
    "Узнаем ради любопытства, какие раунды представлены в этом датафрейме:"
   ]
  },
  {
   "cell_type": "code",
   "execution_count": 239,
   "metadata": {
    "collapsed": false
   },
   "outputs": [
    {
     "data": {
      "text/plain": [
       "1st Round        16788\n",
       "2nd Round         9904\n",
       "Quarterfinals     3388\n",
       "3rd Round         2568\n",
       "Semifinals        1721\n",
       "The Final          859\n",
       "4th Round          600\n",
       "Round Robin        276\n",
       "Name: Round, dtype: int64"
      ]
     },
     "execution_count": 239,
     "metadata": {},
     "output_type": "execute_result"
    }
   ],
   "source": [
    "all_bets['Round'].value_counts() #поэтому датасеты нельзя объединить по раундам"
   ]
  },
  {
   "cell_type": "markdown",
   "metadata": {},
   "source": [
    "А теперь посмотрим на даты:"
   ]
  },
  {
   "cell_type": "code",
   "execution_count": 240,
   "metadata": {
    "collapsed": false
   },
   "outputs": [
    {
     "data": {
      "text/plain": [
       "0   2001-01-01\n",
       "1   2001-01-01\n",
       "2   2001-01-01\n",
       "3   2001-01-01\n",
       "4   2001-01-01\n",
       "Name: Date, dtype: datetime64[ns]"
      ]
     },
     "execution_count": 240,
     "metadata": {},
     "output_type": "execute_result"
    }
   ],
   "source": [
    "all_bets['Date'].head()"
   ]
  },
  {
   "cell_type": "markdown",
   "metadata": {},
   "source": [
    "Ух ты! Они представлены ровно в том формате, в который мы переделывали даты из датафрейма 'matches' - в формате 'datetime'."
   ]
  },
  {
   "cell_type": "markdown",
   "metadata": {},
   "source": [
    "Создадим колонки с годом, месяцем и днём. Вдруг пригодятся!"
   ]
  },
  {
   "cell_type": "code",
   "execution_count": 241,
   "metadata": {
    "collapsed": false
   },
   "outputs": [
    {
     "data": {
      "text/html": [
       "<div>\n",
       "<table border=\"1\" class=\"dataframe\">\n",
       "  <thead>\n",
       "    <tr style=\"text-align: right;\">\n",
       "      <th></th>\n",
       "      <th>Date</th>\n",
       "      <th>Year</th>\n",
       "      <th>Month</th>\n",
       "      <th>Day</th>\n",
       "    </tr>\n",
       "  </thead>\n",
       "  <tbody>\n",
       "    <tr>\n",
       "      <th>0</th>\n",
       "      <td>2001-01-01</td>\n",
       "      <td>2001</td>\n",
       "      <td>1</td>\n",
       "      <td>1</td>\n",
       "    </tr>\n",
       "    <tr>\n",
       "      <th>1</th>\n",
       "      <td>2001-01-01</td>\n",
       "      <td>2001</td>\n",
       "      <td>1</td>\n",
       "      <td>1</td>\n",
       "    </tr>\n",
       "    <tr>\n",
       "      <th>2</th>\n",
       "      <td>2001-01-01</td>\n",
       "      <td>2001</td>\n",
       "      <td>1</td>\n",
       "      <td>1</td>\n",
       "    </tr>\n",
       "    <tr>\n",
       "      <th>3</th>\n",
       "      <td>2001-01-01</td>\n",
       "      <td>2001</td>\n",
       "      <td>1</td>\n",
       "      <td>1</td>\n",
       "    </tr>\n",
       "    <tr>\n",
       "      <th>4</th>\n",
       "      <td>2001-01-01</td>\n",
       "      <td>2001</td>\n",
       "      <td>1</td>\n",
       "      <td>1</td>\n",
       "    </tr>\n",
       "  </tbody>\n",
       "</table>\n",
       "</div>"
      ],
      "text/plain": [
       "        Date  Year  Month  Day\n",
       "0 2001-01-01  2001      1    1\n",
       "1 2001-01-01  2001      1    1\n",
       "2 2001-01-01  2001      1    1\n",
       "3 2001-01-01  2001      1    1\n",
       "4 2001-01-01  2001      1    1"
      ]
     },
     "execution_count": 241,
     "metadata": {},
     "output_type": "execute_result"
    }
   ],
   "source": [
    "all_bets['Year'] = np.int_(all_bets['Date'].dt.year)\n",
    "all_bets['Month'] = np.int_(all_bets['Date'].dt.month)\n",
    "all_bets['Day'] = np.int_(all_bets['Date'].dt.day)\n",
    "\n",
    "all_bets[['Date', 'Year', 'Month', 'Day']].head()"
   ]
  },
  {
   "cell_type": "markdown",
   "metadata": {},
   "source": [
    "В информации о датасете можно было найти колонку 'Start Date'. Что за информация находится в ней? Дата начала турнира, как в датафрейме 'matches', или что-то еще? Посмотрим, много ли значений в ней есть вообще:"
   ]
  },
  {
   "cell_type": "code",
   "execution_count": 242,
   "metadata": {
    "collapsed": false
   },
   "outputs": [
    {
     "data": {
      "text/plain": [
       "count                     207\n",
       "unique                     37\n",
       "top       2003-07-07 00:00:00\n",
       "freq                        9\n",
       "first     2002-12-30 00:00:00\n",
       "last      2003-11-10 00:00:00\n",
       "Name: Start Date, dtype: object"
      ]
     },
     "execution_count": 242,
     "metadata": {},
     "output_type": "execute_result"
    }
   ],
   "source": [
    "all_bets['Start Date'].describe()"
   ]
  },
  {
   "cell_type": "markdown",
   "metadata": {},
   "source": [
    "Всего 207 из 36310. Неинформативный признак, получается.    "
   ]
  },
  {
   "cell_type": "markdown",
   "metadata": {},
   "source": [
    "Посмотрим ещё на пару подозрительных признаков."
   ]
  },
  {
   "cell_type": "code",
   "execution_count": 243,
   "metadata": {
    "collapsed": false
   },
   "outputs": [
    {
     "data": {
      "text/plain": [
       "count    207.000000\n",
       "mean      44.057971\n",
       "std       24.787965\n",
       "min        8.000000\n",
       "25%       32.000000\n",
       "50%       32.000000\n",
       "75%       48.000000\n",
       "max      128.000000\n",
       "Name: Players, dtype: float64"
      ]
     },
     "execution_count": 243,
     "metadata": {},
     "output_type": "execute_result"
    }
   ],
   "source": [
    "all_bets['Players'].describe()"
   ]
  },
  {
   "cell_type": "code",
   "execution_count": 244,
   "metadata": {
    "collapsed": false
   },
   "outputs": [
    {
     "data": {
      "text/plain": [
       "count      207\n",
       "unique      69\n",
       "top       Umag\n",
       "freq         3\n",
       "Name: Venue, dtype: object"
      ]
     },
     "execution_count": 244,
     "metadata": {},
     "output_type": "execute_result"
    }
   ],
   "source": [
    "all_bets['Venue'].describe()"
   ]
  },
  {
   "cell_type": "markdown",
   "metadata": {},
   "source": [
    "Колонки 'Players', 'Start Date' и 'Venue' практически не несует в себе никакой информации, что позже может вызвать проблемы, когда придётся заполнять ячейкие с отсутствующими значениями ('NaN'). Удалим их из датасета:"
   ]
  },
  {
   "cell_type": "code",
   "execution_count": 245,
   "metadata": {
    "collapsed": false
   },
   "outputs": [],
   "source": [
    "all_bets = all_bets.drop(['Players', 'Start Date', 'Venue'], axis=1)"
   ]
  },
  {
   "cell_type": "markdown",
   "metadata": {},
   "source": [
    "Теперь посмотрим на ещё один подозрительный признак: 'Court':"
   ]
  },
  {
   "cell_type": "code",
   "execution_count": 246,
   "metadata": {
    "collapsed": false
   },
   "outputs": [
    {
     "data": {
      "text/plain": [
       "Outdoor    29789\n",
       "Indoor      6522\n",
       "Name: Court, dtype: int64"
      ]
     },
     "execution_count": 246,
     "metadata": {},
     "output_type": "execute_result"
    }
   ],
   "source": [
    "all_bets['Court'].value_counts()"
   ]
  },
  {
   "cell_type": "markdown",
   "metadata": {},
   "source": [
    "Его удалять не будем, так как он несёт информацию о каждом матче, был он сыгран на улице (outdoor) или в помещении (indoor)."
   ]
  },
  {
   "cell_type": "markdown",
   "metadata": {},
   "source": [
    "Выделим в отдельный датасет ставки на победителей в разных букмекерских конторах, чтобы поработать с ними:"
   ]
  },
  {
   "cell_type": "code",
   "execution_count": 247,
   "metadata": {
    "collapsed": false
   },
   "outputs": [
    {
     "name": "stdout",
     "output_type": "stream",
     "text": [
      "<class 'pandas.core.frame.DataFrame'>\n",
      "RangeIndex: 36311 entries, 0 to 36310\n",
      "Data columns (total 11 columns):\n",
      "B365W    30493 non-null float64\n",
      "CBW      17507 non-null float64\n",
      "GBW      5055 non-null float64\n",
      "IWW      13358 non-null float64\n",
      "SBW      5424 non-null float64\n",
      "B&WW     1097 non-null float64\n",
      "EXW      26379 non-null object\n",
      "LBW      15719 non-null float64\n",
      "PSW      24202 non-null float64\n",
      "UBW      10672 non-null float64\n",
      "SJW      7747 non-null float64\n",
      "dtypes: float64(10), object(1)\n",
      "memory usage: 3.0+ MB\n"
     ]
    }
   ],
   "source": [
    "winner_bets = all_bets[['B365W','CBW', 'GBW','IWW', 'SBW', 'B&WW', 'EXW', 'LBW', 'PSW', 'UBW','SJW']]\n",
    "winner_bets.info()"
   ]
  },
  {
   "cell_type": "markdown",
   "metadata": {},
   "source": [
    "То же самое проделаем со ставками на проигравших:"
   ]
  },
  {
   "cell_type": "code",
   "execution_count": 248,
   "metadata": {
    "collapsed": false
   },
   "outputs": [
    {
     "data": {
      "text/html": [
       "<div>\n",
       "<table border=\"1\" class=\"dataframe\">\n",
       "  <thead>\n",
       "    <tr style=\"text-align: right;\">\n",
       "      <th></th>\n",
       "      <th>B365L</th>\n",
       "      <th>CBL</th>\n",
       "      <th>GBL</th>\n",
       "      <th>IWL</th>\n",
       "      <th>SBL</th>\n",
       "      <th>B&amp;WL</th>\n",
       "      <th>EXL</th>\n",
       "      <th>LBL</th>\n",
       "      <th>PSL</th>\n",
       "      <th>UBL</th>\n",
       "      <th>SJL</th>\n",
       "    </tr>\n",
       "  </thead>\n",
       "  <tbody>\n",
       "    <tr>\n",
       "      <th>0</th>\n",
       "      <td>NaN</td>\n",
       "      <td>NaN</td>\n",
       "      <td>NaN</td>\n",
       "      <td>NaN</td>\n",
       "      <td>NaN</td>\n",
       "      <td>NaN</td>\n",
       "      <td>NaN</td>\n",
       "      <td>NaN</td>\n",
       "      <td>NaN</td>\n",
       "      <td>NaN</td>\n",
       "      <td>NaN</td>\n",
       "    </tr>\n",
       "    <tr>\n",
       "      <th>1</th>\n",
       "      <td>NaN</td>\n",
       "      <td>NaN</td>\n",
       "      <td>NaN</td>\n",
       "      <td>NaN</td>\n",
       "      <td>NaN</td>\n",
       "      <td>NaN</td>\n",
       "      <td>NaN</td>\n",
       "      <td>NaN</td>\n",
       "      <td>NaN</td>\n",
       "      <td>NaN</td>\n",
       "      <td>NaN</td>\n",
       "    </tr>\n",
       "    <tr>\n",
       "      <th>2</th>\n",
       "      <td>NaN</td>\n",
       "      <td>NaN</td>\n",
       "      <td>4.0</td>\n",
       "      <td>3.5</td>\n",
       "      <td>NaN</td>\n",
       "      <td>NaN</td>\n",
       "      <td>NaN</td>\n",
       "      <td>NaN</td>\n",
       "      <td>NaN</td>\n",
       "      <td>NaN</td>\n",
       "      <td>NaN</td>\n",
       "    </tr>\n",
       "    <tr>\n",
       "      <th>3</th>\n",
       "      <td>NaN</td>\n",
       "      <td>NaN</td>\n",
       "      <td>NaN</td>\n",
       "      <td>NaN</td>\n",
       "      <td>NaN</td>\n",
       "      <td>NaN</td>\n",
       "      <td>NaN</td>\n",
       "      <td>NaN</td>\n",
       "      <td>NaN</td>\n",
       "      <td>NaN</td>\n",
       "      <td>NaN</td>\n",
       "    </tr>\n",
       "    <tr>\n",
       "      <th>4</th>\n",
       "      <td>NaN</td>\n",
       "      <td>3.3</td>\n",
       "      <td>3.8</td>\n",
       "      <td>NaN</td>\n",
       "      <td>NaN</td>\n",
       "      <td>NaN</td>\n",
       "      <td>NaN</td>\n",
       "      <td>NaN</td>\n",
       "      <td>NaN</td>\n",
       "      <td>NaN</td>\n",
       "      <td>NaN</td>\n",
       "    </tr>\n",
       "  </tbody>\n",
       "</table>\n",
       "</div>"
      ],
      "text/plain": [
       "   B365L  CBL  GBL  IWL  SBL  B&WL  EXL  LBL  PSL  UBL  SJL\n",
       "0    NaN  NaN  NaN  NaN  NaN   NaN  NaN  NaN  NaN  NaN  NaN\n",
       "1    NaN  NaN  NaN  NaN  NaN   NaN  NaN  NaN  NaN  NaN  NaN\n",
       "2    NaN  NaN  4.0  3.5  NaN   NaN  NaN  NaN  NaN  NaN  NaN\n",
       "3    NaN  NaN  NaN  NaN  NaN   NaN  NaN  NaN  NaN  NaN  NaN\n",
       "4    NaN  3.3  3.8  NaN  NaN   NaN  NaN  NaN  NaN  NaN  NaN"
      ]
     },
     "execution_count": 248,
     "metadata": {},
     "output_type": "execute_result"
    }
   ],
   "source": [
    "loser_bets = all_bets[['B365L','CBL', 'GBL','IWL', 'SBL', 'B&WL', 'EXL', 'LBL', 'PSL', 'UBL','SJL']]\n",
    "loser_bets.head()"
   ]
  },
  {
   "cell_type": "markdown",
   "metadata": {},
   "source": [
    "Сделаем полностью заполненную значениями максимальной котировки на победителя колонку:"
   ]
  },
  {
   "cell_type": "code",
   "execution_count": 249,
   "metadata": {
    "collapsed": false
   },
   "outputs": [
    {
     "data": {
      "text/plain": [
       "0     NaN\n",
       "1     NaN\n",
       "2    1.12\n",
       "3     NaN\n",
       "4    1.28\n",
       "Name: MaxW, dtype: float64"
      ]
     },
     "execution_count": 249,
     "metadata": {},
     "output_type": "execute_result"
    }
   ],
   "source": [
    "all_bets['MaxW'] = winner_bets.max(axis=1)\n",
    "all_bets['MaxW'].head()"
   ]
  },
  {
   "cell_type": "markdown",
   "metadata": {},
   "source": [
    "Аналогично сделаем для проигравшего:"
   ]
  },
  {
   "cell_type": "code",
   "execution_count": 250,
   "metadata": {
    "collapsed": false
   },
   "outputs": [
    {
     "data": {
      "text/plain": [
       "0    NaN\n",
       "1    NaN\n",
       "2    4.0\n",
       "3    NaN\n",
       "4    3.8\n",
       "Name: MaxL, dtype: float64"
      ]
     },
     "execution_count": 250,
     "metadata": {},
     "output_type": "execute_result"
    }
   ],
   "source": [
    "all_bets['MaxL'] = loser_bets.max(axis=1)\n",
    "all_bets['MaxL'].head()"
   ]
  },
  {
   "cell_type": "markdown",
   "metadata": {},
   "source": [
    "Теперь вычислим среднюю котировку из представленных в датафрейме для победителя: "
   ]
  },
  {
   "cell_type": "code",
   "execution_count": 251,
   "metadata": {
    "collapsed": false
   },
   "outputs": [
    {
     "data": {
      "text/plain": [
       "0     NaN\n",
       "1     NaN\n",
       "2    1.11\n",
       "3     NaN\n",
       "4    1.20\n",
       "Name: AvgW, dtype: float64"
      ]
     },
     "execution_count": 251,
     "metadata": {},
     "output_type": "execute_result"
    }
   ],
   "source": [
    "all_bets['AvgW'] = winner_bets.mean(axis=1)\n",
    "all_bets['AvgW'].head()"
   ]
  },
  {
   "cell_type": "markdown",
   "metadata": {},
   "source": [
    "И проигравшего:"
   ]
  },
  {
   "cell_type": "code",
   "execution_count": 252,
   "metadata": {
    "collapsed": false
   },
   "outputs": [
    {
     "data": {
      "text/plain": [
       "0     NaN\n",
       "1     NaN\n",
       "2    3.75\n",
       "3     NaN\n",
       "4    3.55\n",
       "Name: AvgL, dtype: float64"
      ]
     },
     "execution_count": 252,
     "metadata": {},
     "output_type": "execute_result"
    }
   ],
   "source": [
    "all_bets['AvgL'] = loser_bets.mean(axis=1)\n",
    "all_bets['AvgL'].head()"
   ]
  },
  {
   "cell_type": "markdown",
   "metadata": {},
   "source": [
    "Теперь вычислим такой статистических показатель, как дисперсия котировок.     \n",
    "Для победителя:"
   ]
  },
  {
   "cell_type": "code",
   "execution_count": 253,
   "metadata": {
    "collapsed": false
   },
   "outputs": [
    {
     "data": {
      "text/plain": [
       "0       NaN\n",
       "1       NaN\n",
       "2    0.0002\n",
       "3       NaN\n",
       "4    0.0128\n",
       "Name: VarW, dtype: float64"
      ]
     },
     "execution_count": 253,
     "metadata": {},
     "output_type": "execute_result"
    }
   ],
   "source": [
    "all_bets['VarW'] = winner_bets.var(axis=1)\n",
    "all_bets['VarW'].head()"
   ]
  },
  {
   "cell_type": "markdown",
   "metadata": {},
   "source": [
    "Для проигравшего:"
   ]
  },
  {
   "cell_type": "code",
   "execution_count": 254,
   "metadata": {
    "collapsed": false
   },
   "outputs": [
    {
     "data": {
      "text/plain": [
       "0      NaN\n",
       "1      NaN\n",
       "2    0.125\n",
       "3      NaN\n",
       "4    0.125\n",
       "Name: VarL, dtype: float64"
      ]
     },
     "execution_count": 254,
     "metadata": {},
     "output_type": "execute_result"
    }
   ],
   "source": [
    "all_bets['VarL'] = loser_bets.var(axis=1)\n",
    "all_bets['VarL'].head()"
   ]
  },
  {
   "cell_type": "markdown",
   "metadata": {},
   "source": [
    "Посмотрим на новые данные в совокупности с некоторыми старыми:"
   ]
  },
  {
   "cell_type": "code",
   "execution_count": 255,
   "metadata": {
    "collapsed": false
   },
   "outputs": [
    {
     "data": {
      "text/html": [
       "<div>\n",
       "<table border=\"1\" class=\"dataframe\">\n",
       "  <thead>\n",
       "    <tr style=\"text-align: right;\">\n",
       "      <th></th>\n",
       "      <th>Winner</th>\n",
       "      <th>Wsets</th>\n",
       "      <th>Lsets</th>\n",
       "      <th>Loser</th>\n",
       "      <th>AvgW</th>\n",
       "      <th>AvgL</th>\n",
       "      <th>VarW</th>\n",
       "      <th>VarL</th>\n",
       "      <th>Tournament</th>\n",
       "      <th>Location</th>\n",
       "      <th>Round</th>\n",
       "      <th>Year</th>\n",
       "    </tr>\n",
       "  </thead>\n",
       "  <tbody>\n",
       "    <tr>\n",
       "      <th>0</th>\n",
       "      <td>Clement A.</td>\n",
       "      <td>2.0</td>\n",
       "      <td>1</td>\n",
       "      <td>Gaudenzi A.</td>\n",
       "      <td>NaN</td>\n",
       "      <td>NaN</td>\n",
       "      <td>NaN</td>\n",
       "      <td>NaN</td>\n",
       "      <td>AAPT Championships</td>\n",
       "      <td>Adelaide</td>\n",
       "      <td>1st Round</td>\n",
       "      <td>2001</td>\n",
       "    </tr>\n",
       "    <tr>\n",
       "      <th>1</th>\n",
       "      <td>Goldstein P.</td>\n",
       "      <td>2.0</td>\n",
       "      <td>0</td>\n",
       "      <td>Jones A.</td>\n",
       "      <td>NaN</td>\n",
       "      <td>NaN</td>\n",
       "      <td>NaN</td>\n",
       "      <td>NaN</td>\n",
       "      <td>AAPT Championships</td>\n",
       "      <td>Adelaide</td>\n",
       "      <td>1st Round</td>\n",
       "      <td>2001</td>\n",
       "    </tr>\n",
       "    <tr>\n",
       "      <th>2</th>\n",
       "      <td>Haas T.</td>\n",
       "      <td>2.0</td>\n",
       "      <td>0</td>\n",
       "      <td>Smith L.</td>\n",
       "      <td>1.11</td>\n",
       "      <td>3.75</td>\n",
       "      <td>0.0002</td>\n",
       "      <td>0.125</td>\n",
       "      <td>AAPT Championships</td>\n",
       "      <td>Adelaide</td>\n",
       "      <td>1st Round</td>\n",
       "      <td>2001</td>\n",
       "    </tr>\n",
       "    <tr>\n",
       "      <th>3</th>\n",
       "      <td>Henman T.</td>\n",
       "      <td>2.0</td>\n",
       "      <td>0</td>\n",
       "      <td>Rusedski G.</td>\n",
       "      <td>NaN</td>\n",
       "      <td>NaN</td>\n",
       "      <td>NaN</td>\n",
       "      <td>NaN</td>\n",
       "      <td>AAPT Championships</td>\n",
       "      <td>Adelaide</td>\n",
       "      <td>1st Round</td>\n",
       "      <td>2001</td>\n",
       "    </tr>\n",
       "    <tr>\n",
       "      <th>4</th>\n",
       "      <td>Hewitt L.</td>\n",
       "      <td>2.0</td>\n",
       "      <td>0</td>\n",
       "      <td>Arthurs W.</td>\n",
       "      <td>1.20</td>\n",
       "      <td>3.55</td>\n",
       "      <td>0.0128</td>\n",
       "      <td>0.125</td>\n",
       "      <td>AAPT Championships</td>\n",
       "      <td>Adelaide</td>\n",
       "      <td>1st Round</td>\n",
       "      <td>2001</td>\n",
       "    </tr>\n",
       "  </tbody>\n",
       "</table>\n",
       "</div>"
      ],
      "text/plain": [
       "         Winner  Wsets Lsets        Loser  AvgW  AvgL    VarW   VarL  \\\n",
       "0    Clement A.    2.0     1  Gaudenzi A.   NaN   NaN     NaN    NaN   \n",
       "1  Goldstein P.    2.0     0     Jones A.   NaN   NaN     NaN    NaN   \n",
       "2       Haas T.    2.0     0     Smith L.  1.11  3.75  0.0002  0.125   \n",
       "3     Henman T.    2.0     0  Rusedski G.   NaN   NaN     NaN    NaN   \n",
       "4     Hewitt L.    2.0     0   Arthurs W.  1.20  3.55  0.0128  0.125   \n",
       "\n",
       "           Tournament  Location      Round  Year  \n",
       "0  AAPT Championships  Adelaide  1st Round  2001  \n",
       "1  AAPT Championships  Adelaide  1st Round  2001  \n",
       "2  AAPT Championships  Adelaide  1st Round  2001  \n",
       "3  AAPT Championships  Adelaide  1st Round  2001  \n",
       "4  AAPT Championships  Adelaide  1st Round  2001  "
      ]
     },
     "execution_count": 255,
     "metadata": {},
     "output_type": "execute_result"
    }
   ],
   "source": [
    "all_bets[['Winner', 'Wsets', 'Lsets', 'Loser', 'AvgW', 'AvgL', 'VarW', 'VarL', 'Tournament', 'Location', 'Round', 'Year']].head()"
   ]
  },
  {
   "cell_type": "markdown",
   "metadata": {},
   "source": [
    "Посмотрим, как выглядят признаки 'Wsets' и 'Lsets': "
   ]
  },
  {
   "cell_type": "code",
   "execution_count": 256,
   "metadata": {
    "collapsed": false
   },
   "outputs": [
    {
     "data": {
      "text/html": [
       "<div>\n",
       "<table border=\"1\" class=\"dataframe\">\n",
       "  <thead>\n",
       "    <tr style=\"text-align: right;\">\n",
       "      <th></th>\n",
       "      <th>Winner</th>\n",
       "      <th>Wsets</th>\n",
       "      <th>Lsets</th>\n",
       "      <th>Loser</th>\n",
       "      <th>Date</th>\n",
       "      <th>Year</th>\n",
       "    </tr>\n",
       "  </thead>\n",
       "  <tbody>\n",
       "    <tr>\n",
       "      <th>0</th>\n",
       "      <td>Clement A.</td>\n",
       "      <td>2.0</td>\n",
       "      <td>1</td>\n",
       "      <td>Gaudenzi A.</td>\n",
       "      <td>2001-01-01</td>\n",
       "      <td>2001</td>\n",
       "    </tr>\n",
       "    <tr>\n",
       "      <th>1</th>\n",
       "      <td>Goldstein P.</td>\n",
       "      <td>2.0</td>\n",
       "      <td>0</td>\n",
       "      <td>Jones A.</td>\n",
       "      <td>2001-01-01</td>\n",
       "      <td>2001</td>\n",
       "    </tr>\n",
       "    <tr>\n",
       "      <th>2</th>\n",
       "      <td>Haas T.</td>\n",
       "      <td>2.0</td>\n",
       "      <td>0</td>\n",
       "      <td>Smith L.</td>\n",
       "      <td>2001-01-01</td>\n",
       "      <td>2001</td>\n",
       "    </tr>\n",
       "    <tr>\n",
       "      <th>3</th>\n",
       "      <td>Henman T.</td>\n",
       "      <td>2.0</td>\n",
       "      <td>0</td>\n",
       "      <td>Rusedski G.</td>\n",
       "      <td>2001-01-01</td>\n",
       "      <td>2001</td>\n",
       "    </tr>\n",
       "    <tr>\n",
       "      <th>4</th>\n",
       "      <td>Hewitt L.</td>\n",
       "      <td>2.0</td>\n",
       "      <td>0</td>\n",
       "      <td>Arthurs W.</td>\n",
       "      <td>2001-01-01</td>\n",
       "      <td>2001</td>\n",
       "    </tr>\n",
       "  </tbody>\n",
       "</table>\n",
       "</div>"
      ],
      "text/plain": [
       "         Winner  Wsets Lsets        Loser       Date  Year\n",
       "0    Clement A.    2.0     1  Gaudenzi A. 2001-01-01  2001\n",
       "1  Goldstein P.    2.0     0     Jones A. 2001-01-01  2001\n",
       "2       Haas T.    2.0     0     Smith L. 2001-01-01  2001\n",
       "3     Henman T.    2.0     0  Rusedski G. 2001-01-01  2001\n",
       "4     Hewitt L.    2.0     0   Arthurs W. 2001-01-01  2001"
      ]
     },
     "execution_count": 256,
     "metadata": {},
     "output_type": "execute_result"
    }
   ],
   "source": [
    "all_bets[['Winner', 'Wsets', 'Lsets', 'Loser', 'Date', 'Year']].head()"
   ]
  },
  {
   "cell_type": "markdown",
   "metadata": {},
   "source": [
    "Переведём значения выигранных победителем сетов в целые числа, чтобы нас ничего не смущало:"
   ]
  },
  {
   "cell_type": "code",
   "execution_count": 257,
   "metadata": {
    "collapsed": false
   },
   "outputs": [
    {
     "data": {
      "text/plain": [
       "0    2\n",
       "1    2\n",
       "2    2\n",
       "3    2\n",
       "4    2\n",
       "Name: Wsets, dtype: int32"
      ]
     },
     "execution_count": 257,
     "metadata": {},
     "output_type": "execute_result"
    }
   ],
   "source": [
    "all_bets['Wsets'] = np.int_(all_bets['Wsets'])\n",
    "all_bets['Wsets'][:5]"
   ]
  },
  {
   "cell_type": "code",
   "execution_count": 258,
   "metadata": {
    "collapsed": false,
    "scrolled": true
   },
   "outputs": [
    {
     "data": {
      "text/html": [
       "<div>\n",
       "<table border=\"1\" class=\"dataframe\">\n",
       "  <thead>\n",
       "    <tr style=\"text-align: right;\">\n",
       "      <th></th>\n",
       "      <th>ATP</th>\n",
       "      <th>AvgL</th>\n",
       "      <th>AvgW</th>\n",
       "      <th>B&amp;WL</th>\n",
       "      <th>B&amp;WW</th>\n",
       "      <th>B365L</th>\n",
       "      <th>B365W</th>\n",
       "      <th>Best of</th>\n",
       "      <th>CBL</th>\n",
       "      <th>CBW</th>\n",
       "      <th>...</th>\n",
       "      <th>W5</th>\n",
       "      <th>WPts</th>\n",
       "      <th>WRank</th>\n",
       "      <th>Winner</th>\n",
       "      <th>Wsets</th>\n",
       "      <th>Year</th>\n",
       "      <th>Month</th>\n",
       "      <th>Day</th>\n",
       "      <th>VarW</th>\n",
       "      <th>VarL</th>\n",
       "    </tr>\n",
       "  </thead>\n",
       "  <tbody>\n",
       "    <tr>\n",
       "      <th>36306</th>\n",
       "      <td>66</td>\n",
       "      <td>3.6525</td>\n",
       "      <td>1.293333</td>\n",
       "      <td>NaN</td>\n",
       "      <td>NaN</td>\n",
       "      <td>3.75</td>\n",
       "      <td>1.28</td>\n",
       "      <td>3.0</td>\n",
       "      <td>NaN</td>\n",
       "      <td>NaN</td>\n",
       "      <td>...</td>\n",
       "      <td>NaN</td>\n",
       "      <td>11185.0</td>\n",
       "      <td>1.0</td>\n",
       "      <td>Murray A.</td>\n",
       "      <td>2</td>\n",
       "      <td>2016</td>\n",
       "      <td>11</td>\n",
       "      <td>18</td>\n",
       "      <td>0.000233</td>\n",
       "      <td>0.056025</td>\n",
       "    </tr>\n",
       "    <tr>\n",
       "      <th>36307</th>\n",
       "      <td>66</td>\n",
       "      <td>1.5525</td>\n",
       "      <td>2.446667</td>\n",
       "      <td>NaN</td>\n",
       "      <td>NaN</td>\n",
       "      <td>1.57</td>\n",
       "      <td>2.37</td>\n",
       "      <td>3.0</td>\n",
       "      <td>NaN</td>\n",
       "      <td>NaN</td>\n",
       "      <td>...</td>\n",
       "      <td>NaN</td>\n",
       "      <td>3450.0</td>\n",
       "      <td>7.0</td>\n",
       "      <td>Cilic M.</td>\n",
       "      <td>2</td>\n",
       "      <td>2016</td>\n",
       "      <td>11</td>\n",
       "      <td>18</td>\n",
       "      <td>0.004633</td>\n",
       "      <td>0.002292</td>\n",
       "    </tr>\n",
       "    <tr>\n",
       "      <th>36308</th>\n",
       "      <td>66</td>\n",
       "      <td>4.2525</td>\n",
       "      <td>1.230000</td>\n",
       "      <td>NaN</td>\n",
       "      <td>NaN</td>\n",
       "      <td>4.50</td>\n",
       "      <td>1.20</td>\n",
       "      <td>3.0</td>\n",
       "      <td>NaN</td>\n",
       "      <td>NaN</td>\n",
       "      <td>...</td>\n",
       "      <td>NaN</td>\n",
       "      <td>11185.0</td>\n",
       "      <td>1.0</td>\n",
       "      <td>Murray A.</td>\n",
       "      <td>2</td>\n",
       "      <td>2016</td>\n",
       "      <td>11</td>\n",
       "      <td>19</td>\n",
       "      <td>0.000700</td>\n",
       "      <td>0.179692</td>\n",
       "    </tr>\n",
       "    <tr>\n",
       "      <th>36309</th>\n",
       "      <td>66</td>\n",
       "      <td>4.2400</td>\n",
       "      <td>1.230000</td>\n",
       "      <td>NaN</td>\n",
       "      <td>NaN</td>\n",
       "      <td>4.33</td>\n",
       "      <td>1.22</td>\n",
       "      <td>3.0</td>\n",
       "      <td>NaN</td>\n",
       "      <td>NaN</td>\n",
       "      <td>...</td>\n",
       "      <td>NaN</td>\n",
       "      <td>10780.0</td>\n",
       "      <td>2.0</td>\n",
       "      <td>Djokovic N.</td>\n",
       "      <td>2</td>\n",
       "      <td>2016</td>\n",
       "      <td>11</td>\n",
       "      <td>19</td>\n",
       "      <td>0.000300</td>\n",
       "      <td>0.117467</td>\n",
       "    </tr>\n",
       "    <tr>\n",
       "      <th>36310</th>\n",
       "      <td>66</td>\n",
       "      <td>1.4825</td>\n",
       "      <td>2.633333</td>\n",
       "      <td>NaN</td>\n",
       "      <td>NaN</td>\n",
       "      <td>1.53</td>\n",
       "      <td>2.50</td>\n",
       "      <td>3.0</td>\n",
       "      <td>NaN</td>\n",
       "      <td>NaN</td>\n",
       "      <td>...</td>\n",
       "      <td>NaN</td>\n",
       "      <td>11185.0</td>\n",
       "      <td>1.0</td>\n",
       "      <td>Murray A.</td>\n",
       "      <td>2</td>\n",
       "      <td>2016</td>\n",
       "      <td>11</td>\n",
       "      <td>20</td>\n",
       "      <td>0.015833</td>\n",
       "      <td>0.005625</td>\n",
       "    </tr>\n",
       "  </tbody>\n",
       "</table>\n",
       "<p>5 rows × 59 columns</p>\n",
       "</div>"
      ],
      "text/plain": [
       "       ATP    AvgL      AvgW  B&WL  B&WW  B365L  B365W  Best of  CBL  CBW  \\\n",
       "36306   66  3.6525  1.293333   NaN   NaN   3.75   1.28      3.0  NaN  NaN   \n",
       "36307   66  1.5525  2.446667   NaN   NaN   1.57   2.37      3.0  NaN  NaN   \n",
       "36308   66  4.2525  1.230000   NaN   NaN   4.50   1.20      3.0  NaN  NaN   \n",
       "36309   66  4.2400  1.230000   NaN   NaN   4.33   1.22      3.0  NaN  NaN   \n",
       "36310   66  1.4825  2.633333   NaN   NaN   1.53   2.50      3.0  NaN  NaN   \n",
       "\n",
       "         ...     W5     WPts WRank       Winner Wsets  Year  Month  Day  \\\n",
       "36306    ...    NaN  11185.0   1.0    Murray A.     2  2016     11   18   \n",
       "36307    ...    NaN   3450.0   7.0     Cilic M.     2  2016     11   18   \n",
       "36308    ...    NaN  11185.0   1.0    Murray A.     2  2016     11   19   \n",
       "36309    ...    NaN  10780.0   2.0  Djokovic N.     2  2016     11   19   \n",
       "36310    ...    NaN  11185.0   1.0    Murray A.     2  2016     11   20   \n",
       "\n",
       "           VarW      VarL  \n",
       "36306  0.000233  0.056025  \n",
       "36307  0.004633  0.002292  \n",
       "36308  0.000700  0.179692  \n",
       "36309  0.000300  0.117467  \n",
       "36310  0.015833  0.005625  \n",
       "\n",
       "[5 rows x 59 columns]"
      ]
     },
     "execution_count": 258,
     "metadata": {},
     "output_type": "execute_result"
    }
   ],
   "source": [
    "all_bets.tail()"
   ]
  },
  {
   "cell_type": "code",
   "execution_count": 259,
   "metadata": {
    "collapsed": false
   },
   "outputs": [
    {
     "data": {
      "text/plain": [
       "International                10490\n",
       "Grand Slam                    6616\n",
       "ATP250                        5571\n",
       "Masters                       4616\n",
       "International Gold            3286\n",
       "Masters 1000                  2835\n",
       "ATP500                        2104\n",
       "International Series           538\n",
       "Masters Cup                    195\n",
       "International Series Gold       27\n",
       "Tennis Masters Series           27\n",
       "Year-End Championship            3\n",
       "World Team Cup                   3\n",
       "Name: Series, dtype: int64"
      ]
     },
     "execution_count": 259,
     "metadata": {},
     "output_type": "execute_result"
    }
   ],
   "source": [
    "all_bets['Series'].value_counts()"
   ]
  },
  {
   "cell_type": "markdown",
   "metadata": {},
   "source": [
    "И напоследок посмотрим на информацию о получившемся датафрейме со ставками:"
   ]
  },
  {
   "cell_type": "code",
   "execution_count": 260,
   "metadata": {
    "collapsed": false
   },
   "outputs": [
    {
     "name": "stdout",
     "output_type": "stream",
     "text": [
      "<class 'pandas.core.frame.DataFrame'>\n",
      "RangeIndex: 36311 entries, 0 to 36310\n",
      "Data columns (total 59 columns):\n",
      "ATP           36311 non-null int64\n",
      "AvgL          35195 non-null float64\n",
      "AvgW          35193 non-null float64\n",
      "B&WL          1097 non-null float64\n",
      "B&WW          1097 non-null float64\n",
      "B365L         30497 non-null float64\n",
      "B365W         30493 non-null float64\n",
      "Best of       36104 non-null float64\n",
      "CBL           17507 non-null float64\n",
      "CBW           17507 non-null float64\n",
      "Comment       36104 non-null object\n",
      "Court         36311 non-null object\n",
      "Date          36104 non-null datetime64[ns]\n",
      "EXL           26384 non-null float64\n",
      "EXW           26379 non-null object\n",
      "GBL           5055 non-null float64\n",
      "GBW           5055 non-null float64\n",
      "IWL           13358 non-null float64\n",
      "IWW           13358 non-null float64\n",
      "L1            35931 non-null float64\n",
      "L2            35578 non-null object\n",
      "L3            16643 non-null object\n",
      "L4            3234 non-null float64\n",
      "L5            1245 non-null float64\n",
      "LBL           15722 non-null float64\n",
      "LBW           15719 non-null float64\n",
      "LPts          22821 non-null float64\n",
      "LRank         36044 non-null object\n",
      "Location      36311 non-null object\n",
      "Loser         36104 non-null object\n",
      "Lsets         35957 non-null object\n",
      "MaxL          35195 non-null float64\n",
      "MaxW          35193 non-null float64\n",
      "PSL           24202 non-null float64\n",
      "PSW           24202 non-null float64\n",
      "Round         36104 non-null object\n",
      "SBL           5424 non-null float64\n",
      "SBW           5424 non-null float64\n",
      "SJL           7747 non-null float64\n",
      "SJW           7747 non-null float64\n",
      "Series        36311 non-null object\n",
      "Surface       36311 non-null object\n",
      "Tournament    36104 non-null object\n",
      "UBL           10672 non-null float64\n",
      "UBW           10672 non-null float64\n",
      "W1            35931 non-null float64\n",
      "W2            35577 non-null object\n",
      "W3            16644 non-null object\n",
      "W4            3234 non-null float64\n",
      "W5            1245 non-null float64\n",
      "WPts          22864 non-null float64\n",
      "WRank         36091 non-null float64\n",
      "Winner        36104 non-null object\n",
      "Wsets         36311 non-null int32\n",
      "Year          36311 non-null int32\n",
      "Month         36311 non-null int32\n",
      "Day           36311 non-null int32\n",
      "VarW          34943 non-null float64\n",
      "VarL          34978 non-null float64\n",
      "dtypes: datetime64[ns](1), float64(37), int32(4), int64(1), object(16)\n",
      "memory usage: 15.8+ MB\n"
     ]
    }
   ],
   "source": [
    "all_bets.info()"
   ]
  },
  {
   "cell_type": "markdown",
   "metadata": {},
   "source": [
    "## Графики: all_bets"
   ]
  },
  {
   "cell_type": "markdown",
   "metadata": {},
   "source": [
    "Построим график квадрата разности очков победителя и проигравшего и дисперсии ставки на выигрыш победителя матча:"
   ]
  },
  {
   "cell_type": "code",
   "execution_count": 261,
   "metadata": {
    "collapsed": false
   },
   "outputs": [
    {
     "data": {
      "text/plain": [
       "<matplotlib.collections.PathCollection at 0x145655f8390>"
      ]
     },
     "execution_count": 261,
     "metadata": {},
     "output_type": "execute_result"
    },
    {
     "data": {
      "image/png": "[encoded data removed]",
      "text/plain": [
       "<matplotlib.figure.Figure at 0x14556c31cf8>"
      ]
     },
     "metadata": {},
     "output_type": "display_data"
    }
   ],
   "source": [
    "plt.scatter((all_bets['WPts']-all_bets['LPts'])**2, all_bets['VarW'])"
   ]
  },
  {
   "cell_type": "markdown",
   "metadata": {},
   "source": [
    "Графиков будет больше!"
   ]
  },
  {
   "cell_type": "markdown",
   "metadata": {},
   "source": [
    "## Соединение датафреймов со статистикой матчей и ставками"
   ]
  },
  {
   "cell_type": "markdown",
   "metadata": {},
   "source": [
    "Чтобы сделать данное действие, стоит иметь в виду, что:\n",
    "1. В одном турнире два игрока могут встретиться в одиночном разряде только один раз\n",
    "2. Каждый турнир проходит лишь раз в году\n",
    "3. Турниры Большого шлема длятся 2 недели, остальные - неделю\n",
    "\n",
    "Таким образом, чтобы понять, что два набора данных относятся к одному матчу, нужно проверить лишь сопвпадение имён победителя ('Winner') и проигравшего ('Loser'), года и названия турнира. Но всё же стоит проверить, являются ли, например, названия одних и тех же турниров одинаковыми в обоих датафреймах?"
   ]
  },
  {
   "cell_type": "markdown",
   "metadata": {},
   "source": [
    "Случайным образом выберем строку и датафрейма 'matches' - 25506. "
   ]
  },
  {
   "cell_type": "code",
   "execution_count": 262,
   "metadata": {
    "collapsed": false
   },
   "outputs": [
    {
     "data": {
      "text/html": [
       "<div>\n",
       "<table border=\"1\" class=\"dataframe\">\n",
       "  <thead>\n",
       "    <tr style=\"text-align: right;\">\n",
       "      <th></th>\n",
       "      <th>Winner</th>\n",
       "      <th>Loser</th>\n",
       "      <th>tourney_name</th>\n",
       "      <th>Year</th>\n",
       "    </tr>\n",
       "  </thead>\n",
       "  <tbody>\n",
       "    <tr>\n",
       "      <th>25505</th>\n",
       "      <td>Karlovic I.</td>\n",
       "      <td>Hartfield D.</td>\n",
       "      <td>Houston</td>\n",
       "      <td>2007</td>\n",
       "    </tr>\n",
       "    <tr>\n",
       "      <th>25506</th>\n",
       "      <td>Melzer J.</td>\n",
       "      <td>Hanescu V.</td>\n",
       "      <td>Houston</td>\n",
       "      <td>2007</td>\n",
       "    </tr>\n",
       "  </tbody>\n",
       "</table>\n",
       "</div>"
      ],
      "text/plain": [
       "            Winner         Loser tourney_name  Year\n",
       "25505  Karlovic I.  Hartfield D.      Houston  2007\n",
       "25506    Melzer J.    Hanescu V.      Houston  2007"
      ]
     },
     "execution_count": 262,
     "metadata": {},
     "output_type": "execute_result"
    }
   ],
   "source": [
    "Question = matches[25505:25507]\n",
    "Question[['Winner', 'Loser', 'tourney_name', 'Year']]"
   ]
  },
  {
   "cell_type": "markdown",
   "metadata": {},
   "source": [
    "Обратим внимание на название турнира  - 'Houston'. Есть вероятность, что в датафрейме со ставками данный турнир назван каким-то более специфичным способом. Проверим:"
   ]
  },
  {
   "cell_type": "code",
   "execution_count": 263,
   "metadata": {
    "collapsed": false
   },
   "outputs": [
    {
     "data": {
      "text/plain": [
       "18234    U.S. Men's Clay Court Championships\n",
       "Name: Tournament, dtype: object"
      ]
     },
     "execution_count": 263,
     "metadata": {},
     "output_type": "execute_result"
    }
   ],
   "source": [
    "Houston = all_bets[(all_bets['Winner'] == 'Melzer J.') & (all_bets['Loser'] == 'Hanescu V.') & (all_bets['Year'] == 2007)]\n",
    "Houston['Tournament']"
   ]
  },
  {
   "cell_type": "markdown",
   "metadata": {},
   "source": [
    "Оказывается, что так и есть. Посмотрим, а какие вообще названия турниров встречаются наиболее часто в обоих датафреймах. Предположим, что наиболее встречающиеся турниры в обоих датафреймах должны быть примерно одними и теми же, но могут быть названы по-разному."
   ]
  },
  {
   "cell_type": "code",
   "execution_count": 264,
   "metadata": {
    "collapsed": false
   },
   "outputs": [
    {
     "data": {
      "text/plain": [
       "Roland Garros           2159\n",
       "Wimbledon               2159\n",
       "Australian Open         2159\n",
       "US Open                 2032\n",
       "Miami Masters           1615\n",
       "Indian Wells Masters    1487\n",
       "Rome Masters             991\n",
       "Cincinnati Masters       991\n",
       "Monte Carlo Masters      991\n",
       "Canada Masters           983\n",
       "Barcelona                903\n",
       "Queen's Club             825\n",
       "Name: tourney_name, dtype: int64"
      ]
     },
     "execution_count": 264,
     "metadata": {},
     "output_type": "execute_result"
    }
   ],
   "source": [
    "matches['tourney_name'].value_counts()[:12]"
   ]
  },
  {
   "cell_type": "code",
   "execution_count": 265,
   "metadata": {
    "collapsed": false
   },
   "outputs": [
    {
     "data": {
      "text/plain": [
       "Wimbledon                                     1651\n",
       "Australian Open                               1651\n",
       "French Open                                   1651\n",
       "US Open                                       1651\n",
       "Monte Carlo Masters                            763\n",
       "Sony Ericsson Open                             665\n",
       "Western & Southern Financial Group Masters     637\n",
       "Pacific Life Open                              601\n",
       "Hamburg TMS                                    488\n",
       "NASDAQ-100 Open                                475\n",
       "BNP Paribas Open                               475\n",
       "Mercedes Cup                                   463\n",
       "Name: Tournament, dtype: int64"
      ]
     },
     "execution_count": 265,
     "metadata": {},
     "output_type": "execute_result"
    }
   ],
   "source": [
    "all_bets['Tournament'].value_counts()[:12]"
   ]
  },
  {
   "cell_type": "markdown",
   "metadata": {},
   "source": [
    "Как мы видим, названия трёх турниров Большого шлема (Wimbledon, Australian Open и US Open) совпадают. В то же время, Roland Garros и French Open - это один и тот же турнир (четвёртый турнир Большого шлема), то есть соединить матчи этого соревнования не получится, что приведёт к значительной потере информации (1651 матч на грунте). Более того, можно заметить тенденцию, что в датафрейме 'matches' турниры часто носят названия городов, в которых они проводятся, тогда как в 'all_bets' в названиях чемпионатов можно увидеть имена их спонсоров: Sony Ericsson, BNP Paibas, Mercedes, что приводит к большому число несовпадающих названий турниров.\n",
    "\n",
    "Таким образом, равенство названия турниров - плохое условие для соединение датафреймов."
   ]
  },
  {
   "cell_type": "markdown",
   "metadata": {},
   "source": [
    "Можно было бы соединять матчи, пользуясь условием равенства дат матчей. Но, как уже можно было видеть, в датафрейме 'matches' есть только даты начала матчей турниров, тогда как в датафрейме 'all_bets' - даты самих матчей. Но, на самом деле, такие данные мы можем обратить в преимущество, воспользовавшисть фактом №3 о теннисных матчах."
   ]
  },
  {
   "cell_type": "markdown",
   "metadata": {},
   "source": [
    "### Соединение датафреймов с использованием имён победителя и проигравшего и дат датасетов    \n"
   ]
  },
  {
   "cell_type": "markdown",
   "metadata": {},
   "source": [
    "Сначала объединим датафреймы 'matches' и 'all_bets' с помощью функции merge. В её скобках записаны названия объединяемых датафреймов, равенство on означает признаки, на основе которых будет произведено объединение, how - какие образом (с помощью объединения, пересечения или других способов; используем inner - пересечение)."
   ]
  },
  {
   "cell_type": "code",
   "execution_count": 266,
   "metadata": {
    "collapsed": false
   },
   "outputs": [
    {
     "name": "stdout",
     "output_type": "stream",
     "text": [
      "<class 'pandas.core.frame.DataFrame'>\n",
      "Int64Index: 77195 entries, 0 to 77194\n",
      "Columns: 126 entries, winner_name to VarL\n",
      "dtypes: datetime64[ns](2), float64(80), int32(7), int64(7), object(30)\n",
      "memory usage: 72.7+ MB\n"
     ]
    }
   ],
   "source": [
    "matches_bets = pd.merge(matches, all_bets, on=['Winner', 'Loser'], how=\"inner\")\n",
    "matches_bets.info()"
   ]
  },
  {
   "cell_type": "markdown",
   "metadata": {},
   "source": [
    "Теперь у нас есть датафрейм со всеми матчами, где совпали указания победителя и проигравшего в обоих датафреймах. Очевидно, что такой датафрейм не учитывет других данных о матче, что значительно снижает точность объединения. \n",
    "\n",
    "Для улучшения датафрейма, который мы потом будет использовать для машинного обучения, сделаем следущие действия:\n",
    "1. Создадим признак 'date_difference', показывающий разницу между датой турнирного матча и датой начала турнира\n",
    "\n",
    "2. Создадим два дополнительных признака:\n",
    "   * KEEP_IN_PLACE_14: равен $1$, если разность дат 'date_difference' лежит на отрезке $[0;14]$, и $0$, если иначе. Данный признак пригодится для турниров Большого шлема\n",
    "   * KEEP_IN_PLACE_7: равен $1$, если разность дат 'date_difference' лежит на отрезке $[0;7]$, и $0$, если иначе. Данный признак пригодится для остальных турниров\n",
    "   \n",
    "   Таким образом созданные признаки проверяют, входит ли матч с конкретной датой в сроки проведения турнира.\n",
    "   \n",
    "3. Далее преобразуем датафрейм 'matches_bets' так, чтобы разность между датой матча и датой начала турнира лежала на отрезке $[0;14]$ и матч входил в серию турниров Большого шлема или же разность между датой матча и датой начала турнира лежала на отрезке $[0;7]$ и матч принадлежал любой серии турниров. \n",
    "\n",
    "4. Отсортируем получивишийся датафрейм по дате в порядке возрастания (от старых матчей к всё более новым) для более удобной работы с ним\n",
    "\n",
    "5. Отобразим получившийся датафрейм, прдемонстировав несколько выбранных признаков"
   ]
  },
  {
   "cell_type": "code",
   "execution_count": 267,
   "metadata": {
    "collapsed": false
   },
   "outputs": [
    {
     "data": {
      "text/html": [
       "<div>\n",
       "<table border=\"1\" class=\"dataframe\">\n",
       "  <thead>\n",
       "    <tr style=\"text-align: right;\">\n",
       "      <th></th>\n",
       "      <th>winner_name</th>\n",
       "      <th>score</th>\n",
       "      <th>loser_name</th>\n",
       "      <th>w_Prct1stIn</th>\n",
       "      <th>AvgW</th>\n",
       "      <th>AvgL</th>\n",
       "      <th>VarW</th>\n",
       "      <th>VarL</th>\n",
       "      <th>tourney_name</th>\n",
       "      <th>Date</th>\n",
       "    </tr>\n",
       "  </thead>\n",
       "  <tbody>\n",
       "    <tr>\n",
       "      <th>7724</th>\n",
       "      <td>Michal Tabara</td>\n",
       "      <td>6-3 6-3</td>\n",
       "      <td>Fernando Gonzalez</td>\n",
       "      <td>0.666667</td>\n",
       "      <td>NaN</td>\n",
       "      <td>NaN</td>\n",
       "      <td>NaN</td>\n",
       "      <td>NaN</td>\n",
       "      <td>Chennai</td>\n",
       "      <td>2001-01-01</td>\n",
       "    </tr>\n",
       "    <tr>\n",
       "      <th>7761</th>\n",
       "      <td>Kristian Pless</td>\n",
       "      <td>6-1 7-5</td>\n",
       "      <td>Adrian Voinea</td>\n",
       "      <td>0.585714</td>\n",
       "      <td>1.9250</td>\n",
       "      <td>1.6825</td>\n",
       "      <td>0.007500</td>\n",
       "      <td>0.018225</td>\n",
       "      <td>Chennai</td>\n",
       "      <td>2001-01-01</td>\n",
       "    </tr>\n",
       "    <tr>\n",
       "      <th>7667</th>\n",
       "      <td>Bohdan Ulihrach</td>\n",
       "      <td>6-2 6-3</td>\n",
       "      <td>Marc Rosset</td>\n",
       "      <td>0.675000</td>\n",
       "      <td>2.4125</td>\n",
       "      <td>1.4200</td>\n",
       "      <td>0.040625</td>\n",
       "      <td>0.003800</td>\n",
       "      <td>Doha</td>\n",
       "      <td>2001-01-01</td>\n",
       "    </tr>\n",
       "    <tr>\n",
       "      <th>7760</th>\n",
       "      <td>Peter Wessels</td>\n",
       "      <td>6-0 6-4</td>\n",
       "      <td>Mikhail Youzhny</td>\n",
       "      <td>0.600000</td>\n",
       "      <td>1.9750</td>\n",
       "      <td>1.6325</td>\n",
       "      <td>0.015833</td>\n",
       "      <td>0.005892</td>\n",
       "      <td>Chennai</td>\n",
       "      <td>2001-01-01</td>\n",
       "    </tr>\n",
       "    <tr>\n",
       "      <th>1646</th>\n",
       "      <td>Alberto Martin</td>\n",
       "      <td>3-6 7-6(5) 7-5</td>\n",
       "      <td>Christophe Rochus</td>\n",
       "      <td>0.556604</td>\n",
       "      <td>NaN</td>\n",
       "      <td>NaN</td>\n",
       "      <td>NaN</td>\n",
       "      <td>NaN</td>\n",
       "      <td>Adelaide</td>\n",
       "      <td>2001-01-01</td>\n",
       "    </tr>\n",
       "  </tbody>\n",
       "</table>\n",
       "</div>"
      ],
      "text/plain": [
       "          winner_name           score         loser_name  w_Prct1stIn    AvgW  \\\n",
       "7724    Michal Tabara         6-3 6-3  Fernando Gonzalez     0.666667     NaN   \n",
       "7761   Kristian Pless         6-1 7-5      Adrian Voinea     0.585714  1.9250   \n",
       "7667  Bohdan Ulihrach         6-2 6-3        Marc Rosset     0.675000  2.4125   \n",
       "7760    Peter Wessels         6-0 6-4    Mikhail Youzhny     0.600000  1.9750   \n",
       "1646   Alberto Martin  3-6 7-6(5) 7-5  Christophe Rochus     0.556604     NaN   \n",
       "\n",
       "        AvgL      VarW      VarL tourney_name       Date  \n",
       "7724     NaN       NaN       NaN      Chennai 2001-01-01  \n",
       "7761  1.6825  0.007500  0.018225      Chennai 2001-01-01  \n",
       "7667  1.4200  0.040625  0.003800         Doha 2001-01-01  \n",
       "7760  1.6325  0.015833  0.005892      Chennai 2001-01-01  \n",
       "1646     NaN       NaN       NaN     Adelaide 2001-01-01  "
      ]
     },
     "execution_count": 267,
     "metadata": {},
     "output_type": "execute_result"
    }
   ],
   "source": [
    "matches_bets['date_difference'] = matches_bets['Date'] - matches_bets['Tournament Date']\n",
    "\n",
    "matches_bets['KEEP_IN_PLACE_14'] = matches_bets['date_difference'].apply(lambda x: 1 if x.days<=14 and x.days>=0 else 0)\n",
    "matches_bets['KEEP_IN_PLACE_7'] = matches_bets['date_difference'].apply(lambda x: 1 if x.days<=7 and x.days>=0 else 0)\n",
    "\n",
    "matches_bets = matches_bets.loc[\n",
    "    ((matches_bets['KEEP_IN_PLACE_14'] == 1) & (matches_bets['Series'] == 'Grand Slam')) | (matches_bets['KEEP_IN_PLACE_7'] == 1)]\n",
    "\n",
    "matches_bets.sort(columns=['Date'], axis=0, ascending=True, inplace=True, kind='quicksort', na_position='last')\n",
    "\n",
    "matches_bets[['winner_name', 'score', 'loser_name', 'w_Prct1stIn', 'AvgW', 'AvgL', 'VarW', 'VarL', \n",
    "              'tourney_name','Date']].head()"
   ]
  },
  {
   "cell_type": "markdown",
   "metadata": {},
   "source": [
    "На всякий случай проверим, действительно ли выполняются условия, на основе которых мы создали новый датафрейм, посмотрев на несовпадающие даты матча и начала турнира.\n",
    "Ответ: выполняются!"
   ]
  },
  {
   "cell_type": "code",
   "execution_count": 268,
   "metadata": {
    "collapsed": false
   },
   "outputs": [
    {
     "data": {
      "text/html": [
       "<div>\n",
       "<table border=\"1\" class=\"dataframe\">\n",
       "  <thead>\n",
       "    <tr style=\"text-align: right;\">\n",
       "      <th></th>\n",
       "      <th>Date</th>\n",
       "      <th>Tournament Date</th>\n",
       "      <th>date_difference</th>\n",
       "      <th>KEEP_IN_PLACE_7</th>\n",
       "      <th>KEEP_IN_PLACE_14</th>\n",
       "    </tr>\n",
       "  </thead>\n",
       "  <tbody>\n",
       "    <tr>\n",
       "      <th>57087</th>\n",
       "      <td>2016-11-18</td>\n",
       "      <td>2016-11-14</td>\n",
       "      <td>4 days</td>\n",
       "      <td>1</td>\n",
       "      <td>1</td>\n",
       "    </tr>\n",
       "    <tr>\n",
       "      <th>60094</th>\n",
       "      <td>2016-11-18</td>\n",
       "      <td>2016-11-14</td>\n",
       "      <td>4 days</td>\n",
       "      <td>1</td>\n",
       "      <td>1</td>\n",
       "    </tr>\n",
       "    <tr>\n",
       "      <th>67929</th>\n",
       "      <td>2016-11-19</td>\n",
       "      <td>2016-11-14</td>\n",
       "      <td>5 days</td>\n",
       "      <td>1</td>\n",
       "      <td>1</td>\n",
       "    </tr>\n",
       "    <tr>\n",
       "      <th>65215</th>\n",
       "      <td>2016-11-19</td>\n",
       "      <td>2016-11-14</td>\n",
       "      <td>5 days</td>\n",
       "      <td>1</td>\n",
       "      <td>1</td>\n",
       "    </tr>\n",
       "    <tr>\n",
       "      <th>56931</th>\n",
       "      <td>2016-11-20</td>\n",
       "      <td>2016-11-14</td>\n",
       "      <td>6 days</td>\n",
       "      <td>1</td>\n",
       "      <td>1</td>\n",
       "    </tr>\n",
       "  </tbody>\n",
       "</table>\n",
       "</div>"
      ],
      "text/plain": [
       "            Date Tournament Date  date_difference  KEEP_IN_PLACE_7  \\\n",
       "57087 2016-11-18      2016-11-14           4 days                1   \n",
       "60094 2016-11-18      2016-11-14           4 days                1   \n",
       "67929 2016-11-19      2016-11-14           5 days                1   \n",
       "65215 2016-11-19      2016-11-14           5 days                1   \n",
       "56931 2016-11-20      2016-11-14           6 days                1   \n",
       "\n",
       "       KEEP_IN_PLACE_14  \n",
       "57087                 1  \n",
       "60094                 1  \n",
       "67929                 1  \n",
       "65215                 1  \n",
       "56931                 1  "
      ]
     },
     "execution_count": 268,
     "metadata": {},
     "output_type": "execute_result"
    }
   ],
   "source": [
    "condition_check = matches_bets[matches_bets.date_difference != '0 days']\n",
    "condition_check[['Date', 'Tournament Date', 'date_difference',\n",
    "                 'KEEP_IN_PLACE_7', 'KEEP_IN_PLACE_14']].tail()"
   ]
  },
  {
   "cell_type": "code",
   "execution_count": 269,
   "metadata": {
    "collapsed": false
   },
   "outputs": [
    {
     "name": "stdout",
     "output_type": "stream",
     "text": [
      "<class 'pandas.core.frame.DataFrame'>\n",
      "Int64Index: 29507 entries, 7724 to 56931\n",
      "Columns: 129 entries, winner_name to KEEP_IN_PLACE_7\n",
      "dtypes: datetime64[ns](2), float64(80), int32(7), int64(9), object(30), timedelta64[ns](1)\n",
      "memory usage: 28.5+ MB\n"
     ]
    }
   ],
   "source": [
    "matches_bets.info()"
   ]
  },
  {
   "cell_type": "markdown",
   "metadata": {},
   "source": [
    "Из последних строк датафрейма и информации о нём видно, что индексация строк сделана неправильно. Исправим:"
   ]
  },
  {
   "cell_type": "code",
   "execution_count": 270,
   "metadata": {
    "collapsed": false
   },
   "outputs": [],
   "source": [
    "matches_bets.index = range(len(matches_bets.index))"
   ]
  },
  {
   "cell_type": "code",
   "execution_count": 271,
   "metadata": {
    "collapsed": false
   },
   "outputs": [
    {
     "data": {
      "text/html": [
       "<div>\n",
       "<table border=\"1\" class=\"dataframe\">\n",
       "  <thead>\n",
       "    <tr style=\"text-align: right;\">\n",
       "      <th></th>\n",
       "      <th>winner_name</th>\n",
       "      <th>score</th>\n",
       "      <th>loser_name</th>\n",
       "      <th>w_Prct1stIn</th>\n",
       "      <th>AvgW</th>\n",
       "      <th>AvgL</th>\n",
       "      <th>VarW</th>\n",
       "      <th>VarL</th>\n",
       "      <th>tourney_name</th>\n",
       "      <th>Date</th>\n",
       "      <th>Tournament Date</th>\n",
       "    </tr>\n",
       "  </thead>\n",
       "  <tbody>\n",
       "    <tr>\n",
       "      <th>29502</th>\n",
       "      <td>Andy Murray</td>\n",
       "      <td>6-4 6-2</td>\n",
       "      <td>Stanislas Wawrinka</td>\n",
       "      <td>0.588235</td>\n",
       "      <td>1.293333</td>\n",
       "      <td>3.6525</td>\n",
       "      <td>0.000233</td>\n",
       "      <td>0.056025</td>\n",
       "      <td>London</td>\n",
       "      <td>2016-11-18</td>\n",
       "      <td>2016-11-14</td>\n",
       "    </tr>\n",
       "    <tr>\n",
       "      <th>29503</th>\n",
       "      <td>Marin Cilic</td>\n",
       "      <td>3-6 6-2 6-3</td>\n",
       "      <td>Kei Nishikori</td>\n",
       "      <td>0.545455</td>\n",
       "      <td>2.446667</td>\n",
       "      <td>1.5525</td>\n",
       "      <td>0.004633</td>\n",
       "      <td>0.002292</td>\n",
       "      <td>London</td>\n",
       "      <td>2016-11-18</td>\n",
       "      <td>2016-11-14</td>\n",
       "    </tr>\n",
       "    <tr>\n",
       "      <th>29504</th>\n",
       "      <td>Andy Murray</td>\n",
       "      <td>5-7 7-6(5) 7-6(9)</td>\n",
       "      <td>Milos Raonic</td>\n",
       "      <td>0.609589</td>\n",
       "      <td>1.230000</td>\n",
       "      <td>4.2525</td>\n",
       "      <td>0.000700</td>\n",
       "      <td>0.179692</td>\n",
       "      <td>London</td>\n",
       "      <td>2016-11-19</td>\n",
       "      <td>2016-11-14</td>\n",
       "    </tr>\n",
       "    <tr>\n",
       "      <th>29505</th>\n",
       "      <td>Novak Djokovic</td>\n",
       "      <td>6-1 6-1</td>\n",
       "      <td>Kei Nishikori</td>\n",
       "      <td>0.636364</td>\n",
       "      <td>1.230000</td>\n",
       "      <td>4.2400</td>\n",
       "      <td>0.000300</td>\n",
       "      <td>0.117467</td>\n",
       "      <td>London</td>\n",
       "      <td>2016-11-19</td>\n",
       "      <td>2016-11-14</td>\n",
       "    </tr>\n",
       "    <tr>\n",
       "      <th>29506</th>\n",
       "      <td>Andy Murray</td>\n",
       "      <td>6-3 6-4</td>\n",
       "      <td>Novak Djokovic</td>\n",
       "      <td>0.542373</td>\n",
       "      <td>2.633333</td>\n",
       "      <td>1.4825</td>\n",
       "      <td>0.015833</td>\n",
       "      <td>0.005625</td>\n",
       "      <td>London</td>\n",
       "      <td>2016-11-20</td>\n",
       "      <td>2016-11-14</td>\n",
       "    </tr>\n",
       "  </tbody>\n",
       "</table>\n",
       "</div>"
      ],
      "text/plain": [
       "          winner_name              score          loser_name  w_Prct1stIn  \\\n",
       "29502     Andy Murray            6-4 6-2  Stanislas Wawrinka     0.588235   \n",
       "29503     Marin Cilic        3-6 6-2 6-3       Kei Nishikori     0.545455   \n",
       "29504     Andy Murray  5-7 7-6(5) 7-6(9)        Milos Raonic     0.609589   \n",
       "29505  Novak Djokovic            6-1 6-1       Kei Nishikori     0.636364   \n",
       "29506     Andy Murray            6-3 6-4      Novak Djokovic     0.542373   \n",
       "\n",
       "           AvgW    AvgL      VarW      VarL tourney_name       Date  \\\n",
       "29502  1.293333  3.6525  0.000233  0.056025       London 2016-11-18   \n",
       "29503  2.446667  1.5525  0.004633  0.002292       London 2016-11-18   \n",
       "29504  1.230000  4.2525  0.000700  0.179692       London 2016-11-19   \n",
       "29505  1.230000  4.2400  0.000300  0.117467       London 2016-11-19   \n",
       "29506  2.633333  1.4825  0.015833  0.005625       London 2016-11-20   \n",
       "\n",
       "      Tournament Date  \n",
       "29502      2016-11-14  \n",
       "29503      2016-11-14  \n",
       "29504      2016-11-14  \n",
       "29505      2016-11-14  \n",
       "29506      2016-11-14  "
      ]
     },
     "execution_count": 271,
     "metadata": {},
     "output_type": "execute_result"
    }
   ],
   "source": [
    "matches_bets[['winner_name', 'score', 'loser_name', 'w_Prct1stIn', 'AvgW', 'AvgL', 'VarW', 'VarL', \n",
    "              'tourney_name','Date', 'Tournament Date']].tail()"
   ]
  },
  {
   "cell_type": "markdown",
   "metadata": {},
   "source": [
    "Теперь с индексацией всё в порядке."
   ]
  },
  {
   "cell_type": "markdown",
   "metadata": {},
   "source": [
    "Посмотрим на информацию о датафрейме:"
   ]
  },
  {
   "cell_type": "code",
   "execution_count": 272,
   "metadata": {
    "collapsed": false
   },
   "outputs": [
    {
     "name": "stdout",
     "output_type": "stream",
     "text": [
      "<class 'pandas.core.frame.DataFrame'>\n",
      "RangeIndex: 29507 entries, 0 to 29506\n",
      "Columns: 129 entries, winner_name to KEEP_IN_PLACE_7\n",
      "dtypes: datetime64[ns](2), float64(80), int32(7), int64(9), object(30), timedelta64[ns](1)\n",
      "memory usage: 28.3+ MB\n"
     ]
    }
   ],
   "source": [
    "matches_bets.info()"
   ]
  },
  {
   "cell_type": "markdown",
   "metadata": {},
   "source": [
    "И на описание его основных статистических показателей:"
   ]
  },
  {
   "cell_type": "code",
   "execution_count": 273,
   "metadata": {
    "collapsed": false
   },
   "outputs": [
    {
     "data": {
      "text/html": [
       "<div>\n",
       "<table border=\"1\" class=\"dataframe\">\n",
       "  <thead>\n",
       "    <tr style=\"text-align: right;\">\n",
       "      <th></th>\n",
       "      <th>tourney_date</th>\n",
       "      <th>minutes</th>\n",
       "      <th>winner_rank</th>\n",
       "      <th>loser_rank</th>\n",
       "      <th>draw_size</th>\n",
       "      <th>best_of</th>\n",
       "      <th>match_num</th>\n",
       "      <th>winner_id</th>\n",
       "      <th>winner_seed</th>\n",
       "      <th>winner_ht</th>\n",
       "      <th>...</th>\n",
       "      <th>WRank</th>\n",
       "      <th>Wsets</th>\n",
       "      <th>Year_y</th>\n",
       "      <th>Month_y</th>\n",
       "      <th>Day_y</th>\n",
       "      <th>VarW</th>\n",
       "      <th>VarL</th>\n",
       "      <th>date_difference</th>\n",
       "      <th>KEEP_IN_PLACE_14</th>\n",
       "      <th>KEEP_IN_PLACE_7</th>\n",
       "    </tr>\n",
       "  </thead>\n",
       "  <tbody>\n",
       "    <tr>\n",
       "      <th>count</th>\n",
       "      <td>2.950700e+04</td>\n",
       "      <td>28310.000000</td>\n",
       "      <td>29091.000000</td>\n",
       "      <td>29044.000000</td>\n",
       "      <td>29507.000000</td>\n",
       "      <td>29507.000000</td>\n",
       "      <td>29507.00000</td>\n",
       "      <td>29507.000000</td>\n",
       "      <td>13785.000000</td>\n",
       "      <td>28622.000000</td>\n",
       "      <td>...</td>\n",
       "      <td>29494.000000</td>\n",
       "      <td>2.950700e+04</td>\n",
       "      <td>29507.000000</td>\n",
       "      <td>29507.000000</td>\n",
       "      <td>29507.000000</td>\n",
       "      <td>28545.000000</td>\n",
       "      <td>28574.000000</td>\n",
       "      <td>29507</td>\n",
       "      <td>29507.0</td>\n",
       "      <td>29507.000000</td>\n",
       "    </tr>\n",
       "    <tr>\n",
       "      <th>mean</th>\n",
       "      <td>2.007508e+07</td>\n",
       "      <td>103.244437</td>\n",
       "      <td>58.670860</td>\n",
       "      <td>91.780230</td>\n",
       "      <td>58.980988</td>\n",
       "      <td>3.376250</td>\n",
       "      <td>44.20829</td>\n",
       "      <td>103879.283051</td>\n",
       "      <td>7.248386</td>\n",
       "      <td>185.475089</td>\n",
       "      <td>...</td>\n",
       "      <td>58.907981</td>\n",
       "      <td>-7.496213e+06</td>\n",
       "      <td>2007.456909</td>\n",
       "      <td>5.628868</td>\n",
       "      <td>16.783950</td>\n",
       "      <td>0.060335</td>\n",
       "      <td>2.069691</td>\n",
       "      <td>2 days 00:34:15.539363</td>\n",
       "      <td>1.0</td>\n",
       "      <td>0.987223</td>\n",
       "    </tr>\n",
       "    <tr>\n",
       "      <th>std</th>\n",
       "      <td>4.850071e+04</td>\n",
       "      <td>40.025624</td>\n",
       "      <td>73.517652</td>\n",
       "      <td>116.419334</td>\n",
       "      <td>37.139822</td>\n",
       "      <td>0.781637</td>\n",
       "      <td>63.34035</td>\n",
       "      <td>1343.693966</td>\n",
       "      <td>6.717755</td>\n",
       "      <td>6.860563</td>\n",
       "      <td>...</td>\n",
       "      <td>73.812810</td>\n",
       "      <td>1.266671e+08</td>\n",
       "      <td>4.853268</td>\n",
       "      <td>2.958055</td>\n",
       "      <td>8.554502</td>\n",
       "      <td>1.279389</td>\n",
       "      <td>24.078595</td>\n",
       "      <td>2 days 01:16:08.605317</td>\n",
       "      <td>0.0</td>\n",
       "      <td>0.112311</td>\n",
       "    </tr>\n",
       "    <tr>\n",
       "      <th>min</th>\n",
       "      <td>2.001010e+07</td>\n",
       "      <td>0.000000</td>\n",
       "      <td>1.000000</td>\n",
       "      <td>1.000000</td>\n",
       "      <td>8.000000</td>\n",
       "      <td>3.000000</td>\n",
       "      <td>1.00000</td>\n",
       "      <td>100644.000000</td>\n",
       "      <td>1.000000</td>\n",
       "      <td>163.000000</td>\n",
       "      <td>...</td>\n",
       "      <td>1.000000</td>\n",
       "      <td>-2.147484e+09</td>\n",
       "      <td>2001.000000</td>\n",
       "      <td>1.000000</td>\n",
       "      <td>1.000000</td>\n",
       "      <td>0.000000</td>\n",
       "      <td>0.000000</td>\n",
       "      <td>0 days 00:00:00</td>\n",
       "      <td>1.0</td>\n",
       "      <td>0.000000</td>\n",
       "    </tr>\n",
       "    <tr>\n",
       "      <th>25%</th>\n",
       "      <td>2.003101e+07</td>\n",
       "      <td>74.000000</td>\n",
       "      <td>16.000000</td>\n",
       "      <td>34.000000</td>\n",
       "      <td>32.000000</td>\n",
       "      <td>3.000000</td>\n",
       "      <td>12.00000</td>\n",
       "      <td>103163.000000</td>\n",
       "      <td>2.000000</td>\n",
       "      <td>180.000000</td>\n",
       "      <td>...</td>\n",
       "      <td>16.000000</td>\n",
       "      <td>2.000000e+00</td>\n",
       "      <td>2003.000000</td>\n",
       "      <td>3.000000</td>\n",
       "      <td>10.000000</td>\n",
       "      <td>0.000609</td>\n",
       "      <td>0.003320</td>\n",
       "      <td>0 days 00:00:00</td>\n",
       "      <td>1.0</td>\n",
       "      <td>1.000000</td>\n",
       "    </tr>\n",
       "    <tr>\n",
       "      <th>50%</th>\n",
       "      <td>2.006102e+07</td>\n",
       "      <td>96.000000</td>\n",
       "      <td>41.000000</td>\n",
       "      <td>65.000000</td>\n",
       "      <td>32.000000</td>\n",
       "      <td>3.000000</td>\n",
       "      <td>23.00000</td>\n",
       "      <td>103819.000000</td>\n",
       "      <td>5.000000</td>\n",
       "      <td>185.000000</td>\n",
       "      <td>...</td>\n",
       "      <td>41.000000</td>\n",
       "      <td>2.000000e+00</td>\n",
       "      <td>2006.000000</td>\n",
       "      <td>6.000000</td>\n",
       "      <td>17.000000</td>\n",
       "      <td>0.002092</td>\n",
       "      <td>0.016675</td>\n",
       "      <td>2 days 00:00:00</td>\n",
       "      <td>1.0</td>\n",
       "      <td>1.000000</td>\n",
       "    </tr>\n",
       "    <tr>\n",
       "      <th>75%</th>\n",
       "      <td>2.013032e+07</td>\n",
       "      <td>125.000000</td>\n",
       "      <td>77.000000</td>\n",
       "      <td>105.000000</td>\n",
       "      <td>64.000000</td>\n",
       "      <td>3.000000</td>\n",
       "      <td>44.00000</td>\n",
       "      <td>104571.000000</td>\n",
       "      <td>9.000000</td>\n",
       "      <td>190.000000</td>\n",
       "      <td>...</td>\n",
       "      <td>77.000000</td>\n",
       "      <td>2.000000e+00</td>\n",
       "      <td>2013.000000</td>\n",
       "      <td>8.000000</td>\n",
       "      <td>24.000000</td>\n",
       "      <td>0.008467</td>\n",
       "      <td>0.094030</td>\n",
       "      <td>3 days 00:00:00</td>\n",
       "      <td>1.0</td>\n",
       "      <td>1.000000</td>\n",
       "    </tr>\n",
       "    <tr>\n",
       "      <th>max</th>\n",
       "      <td>2.016111e+07</td>\n",
       "      <td>1146.000000</td>\n",
       "      <td>1554.000000</td>\n",
       "      <td>2159.000000</td>\n",
       "      <td>128.000000</td>\n",
       "      <td>5.000000</td>\n",
       "      <td>304.00000</td>\n",
       "      <td>144923.000000</td>\n",
       "      <td>35.000000</td>\n",
       "      <td>208.000000</td>\n",
       "      <td>...</td>\n",
       "      <td>1554.000000</td>\n",
       "      <td>3.000000e+00</td>\n",
       "      <td>2016.000000</td>\n",
       "      <td>12.000000</td>\n",
       "      <td>31.000000</td>\n",
       "      <td>147.000000</td>\n",
       "      <td>972.950000</td>\n",
       "      <td>14 days 00:00:00</td>\n",
       "      <td>1.0</td>\n",
       "      <td>1.000000</td>\n",
       "    </tr>\n",
       "  </tbody>\n",
       "</table>\n",
       "<p>8 rows × 97 columns</p>\n",
       "</div>"
      ],
      "text/plain": [
       "       tourney_date       minutes   winner_rank    loser_rank     draw_size  \\\n",
       "count  2.950700e+04  28310.000000  29091.000000  29044.000000  29507.000000   \n",
       "mean   2.007508e+07    103.244437     58.670860     91.780230     58.980988   \n",
       "std    4.850071e+04     40.025624     73.517652    116.419334     37.139822   \n",
       "min    2.001010e+07      0.000000      1.000000      1.000000      8.000000   \n",
       "25%    2.003101e+07     74.000000     16.000000     34.000000     32.000000   \n",
       "50%    2.006102e+07     96.000000     41.000000     65.000000     32.000000   \n",
       "75%    2.013032e+07    125.000000     77.000000    105.000000     64.000000   \n",
       "max    2.016111e+07   1146.000000   1554.000000   2159.000000    128.000000   \n",
       "\n",
       "            best_of    match_num      winner_id   winner_seed     winner_ht  \\\n",
       "count  29507.000000  29507.00000   29507.000000  13785.000000  28622.000000   \n",
       "mean       3.376250     44.20829  103879.283051      7.248386    185.475089   \n",
       "std        0.781637     63.34035    1343.693966      6.717755      6.860563   \n",
       "min        3.000000      1.00000  100644.000000      1.000000    163.000000   \n",
       "25%        3.000000     12.00000  103163.000000      2.000000    180.000000   \n",
       "50%        3.000000     23.00000  103819.000000      5.000000    185.000000   \n",
       "75%        3.000000     44.00000  104571.000000      9.000000    190.000000   \n",
       "max        5.000000    304.00000  144923.000000     35.000000    208.000000   \n",
       "\n",
       "            ...                WRank         Wsets        Year_y  \\\n",
       "count       ...         29494.000000  2.950700e+04  29507.000000   \n",
       "mean        ...            58.907981 -7.496213e+06   2007.456909   \n",
       "std         ...            73.812810  1.266671e+08      4.853268   \n",
       "min         ...             1.000000 -2.147484e+09   2001.000000   \n",
       "25%         ...            16.000000  2.000000e+00   2003.000000   \n",
       "50%         ...            41.000000  2.000000e+00   2006.000000   \n",
       "75%         ...            77.000000  2.000000e+00   2013.000000   \n",
       "max         ...          1554.000000  3.000000e+00   2016.000000   \n",
       "\n",
       "            Month_y         Day_y          VarW          VarL  \\\n",
       "count  29507.000000  29507.000000  28545.000000  28574.000000   \n",
       "mean       5.628868     16.783950      0.060335      2.069691   \n",
       "std        2.958055      8.554502      1.279389     24.078595   \n",
       "min        1.000000      1.000000      0.000000      0.000000   \n",
       "25%        3.000000     10.000000      0.000609      0.003320   \n",
       "50%        6.000000     17.000000      0.002092      0.016675   \n",
       "75%        8.000000     24.000000      0.008467      0.094030   \n",
       "max       12.000000     31.000000    147.000000    972.950000   \n",
       "\n",
       "              date_difference  KEEP_IN_PLACE_14  KEEP_IN_PLACE_7  \n",
       "count                   29507           29507.0     29507.000000  \n",
       "mean   2 days 00:34:15.539363               1.0         0.987223  \n",
       "std    2 days 01:16:08.605317               0.0         0.112311  \n",
       "min           0 days 00:00:00               1.0         0.000000  \n",
       "25%           0 days 00:00:00               1.0         1.000000  \n",
       "50%           2 days 00:00:00               1.0         1.000000  \n",
       "75%           3 days 00:00:00               1.0         1.000000  \n",
       "max          14 days 00:00:00               1.0         1.000000  \n",
       "\n",
       "[8 rows x 97 columns]"
      ]
     },
     "execution_count": 273,
     "metadata": {},
     "output_type": "execute_result"
    }
   ],
   "source": [
    "matches_bets.describe()"
   ]
  },
  {
   "cell_type": "markdown",
   "metadata": {},
   "source": [
    "Проверим, в каком количестве матчей нет средней ставки на победителя и проигравшего, что не позволит связывать обучение и букмекерские котировки."
   ]
  },
  {
   "cell_type": "code",
   "execution_count": 274,
   "metadata": {
    "collapsed": false
   },
   "outputs": [
    {
     "data": {
      "text/plain": [
       "767"
      ]
     },
     "execution_count": 274,
     "metadata": {},
     "output_type": "execute_result"
    }
   ],
   "source": [
    "matches_bets['AvgW'].isnull().sum()"
   ]
  },
  {
   "cell_type": "code",
   "execution_count": 275,
   "metadata": {
    "collapsed": false
   },
   "outputs": [
    {
     "data": {
      "text/plain": [
       "766"
      ]
     },
     "execution_count": 275,
     "metadata": {},
     "output_type": "execute_result"
    }
   ],
   "source": [
    "matches_bets['AvgL'].isnull().sum()"
   ]
  },
  {
   "cell_type": "markdown",
   "metadata": {},
   "source": [
    "Посмотрим, сколько мы теряем матчей из-за отсутсвия информации о ставках в процентном выражении:"
   ]
  },
  {
   "cell_type": "code",
   "execution_count": 276,
   "metadata": {
    "collapsed": false
   },
   "outputs": [
    {
     "data": {
      "text/plain": [
       "0.025993831972074423"
      ]
     },
     "execution_count": 276,
     "metadata": {},
     "output_type": "execute_result"
    }
   ],
   "source": [
    "matches_bets['AvgW'].isnull().sum() / len(matches_bets)"
   ]
  },
  {
   "cell_type": "markdown",
   "metadata": {},
   "source": [
    "Около $2,6$%. Не так уже много!"
   ]
  },
  {
   "cell_type": "markdown",
   "metadata": {},
   "source": [
    "А теперь сравним два, по идее, одинаковых столбца с типом покрытия корта, на котором проходил матч."
   ]
  },
  {
   "cell_type": "code",
   "execution_count": 277,
   "metadata": {
    "collapsed": false
   },
   "outputs": [
    {
     "data": {
      "text/plain": [
       "118"
      ]
     },
     "execution_count": 277,
     "metadata": {},
     "output_type": "execute_result"
    }
   ],
   "source": [
    "matches['surface'].isnull().sum()"
   ]
  },
  {
   "cell_type": "code",
   "execution_count": 278,
   "metadata": {
    "collapsed": false
   },
   "outputs": [
    {
     "data": {
      "text/plain": [
       "0"
      ]
     },
     "execution_count": 278,
     "metadata": {},
     "output_type": "execute_result"
    }
   ],
   "source": [
    "all_bets['Surface'].isnull().sum()"
   ]
  },
  {
   "cell_type": "markdown",
   "metadata": {},
   "source": [
    "Видим, что признак 'Surface' из 'all_bets' описан более полно, следовательно, его и будем брать как описывающий покрытие корта."
   ]
  },
  {
   "cell_type": "markdown",
   "metadata": {
    "collapsed": false
   },
   "source": [
    "## Создание нового датафрейма\n",
    "#### Со случайным выбором результата игрока для релевантного обучения\n"
   ]
  },
  {
   "cell_type": "markdown",
   "metadata": {},
   "source": [
    "Теперь перед нами стоит задача создать столбцы с именами игроков так, чтобы из названия самих столбцов не было понятно, кто победитель, а кто проигравший - это нужно для дальшнейшего обучения. Для этого проведём \"жеребёвку\", сгенерировав псевдослучайные числа: 0 или 1 и поместив их в новый столбец датафрейма 'Random'.\n",
    "\n",
    "*Зафиксировав ядро на 2016 (np.random.seed(2016)) мы обеспечили себе одинаковые псевдослучайные числа при каждой загрузке."
   ]
  },
  {
   "cell_type": "code",
   "execution_count": 279,
   "metadata": {
    "collapsed": false
   },
   "outputs": [
    {
     "data": {
      "text/plain": [
       "1    14853\n",
       "0    14654\n",
       "Name: Random, dtype: int64"
      ]
     },
     "execution_count": 279,
     "metadata": {},
     "output_type": "execute_result"
    }
   ],
   "source": [
    "np.random.seed(2016)\n",
    "matches_bets['Random'] = np.random.random_integers(0, high=1, size=len(matches_bets.index))\n",
    "matches_bets['Random'].value_counts()"
   ]
  },
  {
   "cell_type": "markdown",
   "metadata": {},
   "source": [
    "Теперь создадим столбцы 'Player 1' и 'Player 2', записав в столбец 'Player 1' имя победителя матча, если в столбце 'Random' стоит число 1, и имя проигравшего, если 0. Для столбца 'Player 2' проделаем обратное.    \n",
    "После этого создадим столбец 'Player 1 is a winner', в который запишем 1, если это правда, и 0, если это ложь. Это и будет в дальнейшем столбом ответов при обучении."
   ]
  },
  {
   "cell_type": "code",
   "execution_count": 280,
   "metadata": {
    "collapsed": false
   },
   "outputs": [
    {
     "data": {
      "text/html": [
       "<div>\n",
       "<table border=\"1\" class=\"dataframe\">\n",
       "  <thead>\n",
       "    <tr style=\"text-align: right;\">\n",
       "      <th></th>\n",
       "      <th>Player 1</th>\n",
       "      <th>Winner</th>\n",
       "      <th>Loser</th>\n",
       "      <th>Player 2</th>\n",
       "      <th>P1 is a winner</th>\n",
       "    </tr>\n",
       "  </thead>\n",
       "  <tbody>\n",
       "    <tr>\n",
       "      <th>0</th>\n",
       "      <td>Tabara M.</td>\n",
       "      <td>Tabara M.</td>\n",
       "      <td>Gonzalez F.</td>\n",
       "      <td>Gonzalez F.</td>\n",
       "      <td>1.0</td>\n",
       "    </tr>\n",
       "    <tr>\n",
       "      <th>1</th>\n",
       "      <td>Voinea A.</td>\n",
       "      <td>Pless K.</td>\n",
       "      <td>Voinea A.</td>\n",
       "      <td>Pless K.</td>\n",
       "      <td>0.0</td>\n",
       "    </tr>\n",
       "    <tr>\n",
       "      <th>2</th>\n",
       "      <td>Rosset M.</td>\n",
       "      <td>Ulihrach B.</td>\n",
       "      <td>Rosset M.</td>\n",
       "      <td>Ulihrach B.</td>\n",
       "      <td>0.0</td>\n",
       "    </tr>\n",
       "    <tr>\n",
       "      <th>3</th>\n",
       "      <td>Wessels P.</td>\n",
       "      <td>Wessels P.</td>\n",
       "      <td>Youzhny M.</td>\n",
       "      <td>Youzhny M.</td>\n",
       "      <td>1.0</td>\n",
       "    </tr>\n",
       "    <tr>\n",
       "      <th>4</th>\n",
       "      <td>Martin A.</td>\n",
       "      <td>Martin A.</td>\n",
       "      <td>Rochus C.</td>\n",
       "      <td>Rochus C.</td>\n",
       "      <td>1.0</td>\n",
       "    </tr>\n",
       "  </tbody>\n",
       "</table>\n",
       "</div>"
      ],
      "text/plain": [
       "     Player 1       Winner        Loser     Player 2  P1 is a winner\n",
       "0   Tabara M.    Tabara M.  Gonzalez F.  Gonzalez F.             1.0\n",
       "1   Voinea A.     Pless K.    Voinea A.     Pless K.             0.0\n",
       "2   Rosset M.  Ulihrach B.    Rosset M.  Ulihrach B.             0.0\n",
       "3  Wessels P.   Wessels P.   Youzhny M.   Youzhny M.             1.0\n",
       "4   Martin A.    Martin A.    Rochus C.    Rochus C.             1.0"
      ]
     },
     "execution_count": 280,
     "metadata": {},
     "output_type": "execute_result"
    }
   ],
   "source": [
    "matches_bets.loc[matches_bets['Random'] == 1, 'Player 1'] = matches_bets['Winner']\n",
    "matches_bets.loc[matches_bets['Random'] == 1, 'Player 2'] = matches_bets['Loser']\n",
    "\n",
    "matches_bets.loc[matches_bets['Random'] == 0, 'Player 1'] = matches_bets['Loser']\n",
    "matches_bets.loc[matches_bets['Random'] == 0, 'Player 2'] = matches_bets['Winner']\n",
    "\n",
    "matches_bets.loc[matches_bets['Player 1'] == matches_bets['Winner'] , 'P1 is a winner'] = 1\n",
    "matches_bets.loc[matches_bets['Player 1'] == matches_bets['Loser'] , 'P1 is a winner'] = 0\n",
    "\n",
    "matches_bets[['Player 1', 'Winner', 'Loser', 'Player 2', 'P1 is a winner']].head()"
   ]
  },
  {
   "cell_type": "markdown",
   "metadata": {},
   "source": [
    "Далее переименуем статистические показатели и букмекерские котировки так, чтобы они относились либо к 1, либо ко 2 игроку, а не к победителю или проигравшему."
   ]
  },
  {
   "cell_type": "code",
   "execution_count": 281,
   "metadata": {
    "collapsed": false
   },
   "outputs": [
    {
     "data": {
      "text/html": [
       "<div>\n",
       "<table border=\"1\" class=\"dataframe\">\n",
       "  <thead>\n",
       "    <tr style=\"text-align: right;\">\n",
       "      <th></th>\n",
       "      <th>P1 is a winner</th>\n",
       "      <th>winner_name</th>\n",
       "      <th>loser_name</th>\n",
       "      <th>winner_age</th>\n",
       "      <th>P1_name</th>\n",
       "      <th>P1_age</th>\n",
       "      <th>P2_name</th>\n",
       "      <th>P2_age</th>\n",
       "    </tr>\n",
       "  </thead>\n",
       "  <tbody>\n",
       "    <tr>\n",
       "      <th>0</th>\n",
       "      <td>1.0</td>\n",
       "      <td>Michal Tabara</td>\n",
       "      <td>Fernando Gonzalez</td>\n",
       "      <td>21.393566</td>\n",
       "      <td>Michal Tabara</td>\n",
       "      <td>21.393566</td>\n",
       "      <td>Fernando Gonzalez</td>\n",
       "      <td>20.427105</td>\n",
       "    </tr>\n",
       "    <tr>\n",
       "      <th>1</th>\n",
       "      <td>0.0</td>\n",
       "      <td>Kristian Pless</td>\n",
       "      <td>Adrian Voinea</td>\n",
       "      <td>19.893224</td>\n",
       "      <td>Adrian Voinea</td>\n",
       "      <td>26.406571</td>\n",
       "      <td>Kristian Pless</td>\n",
       "      <td>19.893224</td>\n",
       "    </tr>\n",
       "    <tr>\n",
       "      <th>2</th>\n",
       "      <td>0.0</td>\n",
       "      <td>Bohdan Ulihrach</td>\n",
       "      <td>Marc Rosset</td>\n",
       "      <td>25.856263</td>\n",
       "      <td>Marc Rosset</td>\n",
       "      <td>30.151951</td>\n",
       "      <td>Bohdan Ulihrach</td>\n",
       "      <td>25.856263</td>\n",
       "    </tr>\n",
       "    <tr>\n",
       "      <th>3</th>\n",
       "      <td>1.0</td>\n",
       "      <td>Peter Wessels</td>\n",
       "      <td>Mikhail Youzhny</td>\n",
       "      <td>22.655715</td>\n",
       "      <td>Peter Wessels</td>\n",
       "      <td>22.655715</td>\n",
       "      <td>Mikhail Youzhny</td>\n",
       "      <td>18.521561</td>\n",
       "    </tr>\n",
       "    <tr>\n",
       "      <th>4</th>\n",
       "      <td>1.0</td>\n",
       "      <td>Alberto Martin</td>\n",
       "      <td>Christophe Rochus</td>\n",
       "      <td>22.368241</td>\n",
       "      <td>Alberto Martin</td>\n",
       "      <td>22.368241</td>\n",
       "      <td>Christophe Rochus</td>\n",
       "      <td>22.047912</td>\n",
       "    </tr>\n",
       "  </tbody>\n",
       "</table>\n",
       "</div>"
      ],
      "text/plain": [
       "   P1 is a winner      winner_name         loser_name  winner_age  \\\n",
       "0             1.0    Michal Tabara  Fernando Gonzalez   21.393566   \n",
       "1             0.0   Kristian Pless      Adrian Voinea   19.893224   \n",
       "2             0.0  Bohdan Ulihrach        Marc Rosset   25.856263   \n",
       "3             1.0    Peter Wessels    Mikhail Youzhny   22.655715   \n",
       "4             1.0   Alberto Martin  Christophe Rochus   22.368241   \n",
       "\n",
       "          P1_name     P1_age            P2_name     P2_age  \n",
       "0   Michal Tabara  21.393566  Fernando Gonzalez  20.427105  \n",
       "1   Adrian Voinea  26.406571     Kristian Pless  19.893224  \n",
       "2     Marc Rosset  30.151951    Bohdan Ulihrach  25.856263  \n",
       "3   Peter Wessels  22.655715    Mikhail Youzhny  18.521561  \n",
       "4  Alberto Martin  22.368241  Christophe Rochus  22.047912  "
      ]
     },
     "execution_count": 281,
     "metadata": {},
     "output_type": "execute_result"
    }
   ],
   "source": [
    "for col in ['name', 'rank', 'id', 'seed', 'entry', 'hand', 'ht', 'ioc', 'age', 'rank_points']:\n",
    "    \n",
    "    matches_bets.loc[matches_bets['P1 is a winner'] == 1, 'P1_'+col] = matches_bets['winner_'+col]\n",
    "    matches_bets.loc[matches_bets['P1 is a winner'] == 1, 'P2_'+col] = matches_bets['loser_'+col]\n",
    "    \n",
    "    matches_bets.loc[matches_bets['P1 is a winner'] == 0, 'P1_'+col] = matches_bets['loser_'+col]\n",
    "    matches_bets.loc[matches_bets['P1 is a winner'] == 0, 'P2_'+col] = matches_bets['winner_'+col]\n",
    "    \n",
    "    \n",
    "\n",
    "matches_bets[['P1 is a winner', 'winner_name', 'loser_name', 'winner_age','P1_name', 'P1_age', 'P2_name', 'P2_age']].head()"
   ]
  },
  {
   "cell_type": "code",
   "execution_count": 282,
   "metadata": {
    "collapsed": false
   },
   "outputs": [
    {
     "data": {
      "text/html": [
       "<div>\n",
       "<table border=\"1\" class=\"dataframe\">\n",
       "  <thead>\n",
       "    <tr style=\"text-align: right;\">\n",
       "      <th></th>\n",
       "      <th>P1 is a winner</th>\n",
       "      <th>P1_name</th>\n",
       "      <th>P1_age</th>\n",
       "      <th>P1_Prct1stIn</th>\n",
       "      <th>P1_Prct1stWon</th>\n",
       "      <th>P1_Prct_ace</th>\n",
       "      <th>P1_bpWon</th>\n",
       "      <th>P1_1stRetpt</th>\n",
       "      <th>P1_1stRetptWon</th>\n",
       "      <th>P1_Prct1stRetptWon</th>\n",
       "    </tr>\n",
       "  </thead>\n",
       "  <tbody>\n",
       "    <tr>\n",
       "      <th>0</th>\n",
       "      <td>1.0</td>\n",
       "      <td>Michal Tabara</td>\n",
       "      <td>21.393566</td>\n",
       "      <td>0.666667</td>\n",
       "      <td>0.805556</td>\n",
       "      <td>0.000000</td>\n",
       "      <td>4.0</td>\n",
       "      <td>33.0</td>\n",
       "      <td>13.0</td>\n",
       "      <td>0.393939</td>\n",
       "    </tr>\n",
       "    <tr>\n",
       "      <th>1</th>\n",
       "      <td>0.0</td>\n",
       "      <td>Adrian Voinea</td>\n",
       "      <td>26.406571</td>\n",
       "      <td>0.549020</td>\n",
       "      <td>0.500000</td>\n",
       "      <td>0.078431</td>\n",
       "      <td>2.0</td>\n",
       "      <td>41.0</td>\n",
       "      <td>11.0</td>\n",
       "      <td>0.268293</td>\n",
       "    </tr>\n",
       "    <tr>\n",
       "      <th>2</th>\n",
       "      <td>0.0</td>\n",
       "      <td>Marc Rosset</td>\n",
       "      <td>30.151951</td>\n",
       "      <td>0.491228</td>\n",
       "      <td>0.607143</td>\n",
       "      <td>0.035088</td>\n",
       "      <td>1.0</td>\n",
       "      <td>27.0</td>\n",
       "      <td>4.0</td>\n",
       "      <td>0.148148</td>\n",
       "    </tr>\n",
       "    <tr>\n",
       "      <th>3</th>\n",
       "      <td>1.0</td>\n",
       "      <td>Peter Wessels</td>\n",
       "      <td>22.655715</td>\n",
       "      <td>0.600000</td>\n",
       "      <td>0.766667</td>\n",
       "      <td>0.100000</td>\n",
       "      <td>5.0</td>\n",
       "      <td>31.0</td>\n",
       "      <td>14.0</td>\n",
       "      <td>0.451613</td>\n",
       "    </tr>\n",
       "    <tr>\n",
       "      <th>4</th>\n",
       "      <td>1.0</td>\n",
       "      <td>Alberto Martin</td>\n",
       "      <td>22.368241</td>\n",
       "      <td>0.556604</td>\n",
       "      <td>0.661017</td>\n",
       "      <td>0.037736</td>\n",
       "      <td>5.0</td>\n",
       "      <td>55.0</td>\n",
       "      <td>17.0</td>\n",
       "      <td>0.309091</td>\n",
       "    </tr>\n",
       "  </tbody>\n",
       "</table>\n",
       "</div>"
      ],
      "text/plain": [
       "   P1 is a winner         P1_name     P1_age  P1_Prct1stIn  P1_Prct1stWon  \\\n",
       "0             1.0   Michal Tabara  21.393566      0.666667       0.805556   \n",
       "1             0.0   Adrian Voinea  26.406571      0.549020       0.500000   \n",
       "2             0.0     Marc Rosset  30.151951      0.491228       0.607143   \n",
       "3             1.0   Peter Wessels  22.655715      0.600000       0.766667   \n",
       "4             1.0  Alberto Martin  22.368241      0.556604       0.661017   \n",
       "\n",
       "   P1_Prct_ace  P1_bpWon  P1_1stRetpt  P1_1stRetptWon  P1_Prct1stRetptWon  \n",
       "0     0.000000       4.0         33.0            13.0            0.393939  \n",
       "1     0.078431       2.0         41.0            11.0            0.268293  \n",
       "2     0.035088       1.0         27.0             4.0            0.148148  \n",
       "3     0.100000       5.0         31.0            14.0            0.451613  \n",
       "4     0.037736       5.0         55.0            17.0            0.309091  "
      ]
     },
     "execution_count": 282,
     "metadata": {},
     "output_type": "execute_result"
    }
   ],
   "source": [
    "for col in['ace', 'df', 'svpt', '1stIn', '1stWon','2ndWon', 'SvGms', 'bpSaved', 'bpFaced', 'Prct1stIn',\n",
    "           'Prct1stWon', 'Prct_ace', 'bpWon', '1stRetpt', '1stRetptWon', 'Prct1stRetptWon']:\n",
    "    \n",
    "    matches_bets.loc[matches_bets['P1 is a winner'] == 1, 'P1_'+col] = matches_bets['w_'+col]\n",
    "    matches_bets.loc[matches_bets['P1 is a winner'] == 1, 'P2_'+col] = matches_bets['l_'+col]\n",
    "    \n",
    "    matches_bets.loc[matches_bets['P1 is a winner'] == 0, 'P1_'+col] = matches_bets['l_'+col]\n",
    "    matches_bets.loc[matches_bets['P1 is a winner'] == 0, 'P2_'+col] = matches_bets['w_'+col]\n",
    "    \n",
    "\n",
    "matches_bets[['P1 is a winner', 'P1_name', 'P1_age', 'P1_Prct1stIn',\n",
    "           'P1_Prct1stWon', 'P1_Prct_ace', 'P1_bpWon', 'P1_1stRetpt', 'P1_1stRetptWon', 'P1_Prct1stRetptWon']].head()    "
   ]
  },
  {
   "cell_type": "code",
   "execution_count": 283,
   "metadata": {
    "collapsed": false
   },
   "outputs": [
    {
     "data": {
      "text/html": [
       "<div>\n",
       "<table border=\"1\" class=\"dataframe\">\n",
       "  <thead>\n",
       "    <tr style=\"text-align: right;\">\n",
       "      <th></th>\n",
       "      <th>Player 1</th>\n",
       "      <th>Player 2</th>\n",
       "      <th>P1_Avg</th>\n",
       "      <th>P2_Avg</th>\n",
       "      <th>P1_B365</th>\n",
       "      <th>P2_B365</th>\n",
       "      <th>Winner</th>\n",
       "    </tr>\n",
       "  </thead>\n",
       "  <tbody>\n",
       "    <tr>\n",
       "      <th>29502</th>\n",
       "      <td>Wawrinka S.</td>\n",
       "      <td>Murray A.</td>\n",
       "      <td>3.652500</td>\n",
       "      <td>1.293333</td>\n",
       "      <td>3.75</td>\n",
       "      <td>1.28</td>\n",
       "      <td>Murray A.</td>\n",
       "    </tr>\n",
       "    <tr>\n",
       "      <th>29503</th>\n",
       "      <td>Nishikori K.</td>\n",
       "      <td>Cilic M.</td>\n",
       "      <td>1.552500</td>\n",
       "      <td>2.446667</td>\n",
       "      <td>1.57</td>\n",
       "      <td>2.37</td>\n",
       "      <td>Cilic M.</td>\n",
       "    </tr>\n",
       "    <tr>\n",
       "      <th>29504</th>\n",
       "      <td>Raonic M.</td>\n",
       "      <td>Murray A.</td>\n",
       "      <td>4.252500</td>\n",
       "      <td>1.230000</td>\n",
       "      <td>4.50</td>\n",
       "      <td>1.20</td>\n",
       "      <td>Murray A.</td>\n",
       "    </tr>\n",
       "    <tr>\n",
       "      <th>29505</th>\n",
       "      <td>Djokovic N.</td>\n",
       "      <td>Nishikori K.</td>\n",
       "      <td>1.230000</td>\n",
       "      <td>4.240000</td>\n",
       "      <td>1.22</td>\n",
       "      <td>4.33</td>\n",
       "      <td>Djokovic N.</td>\n",
       "    </tr>\n",
       "    <tr>\n",
       "      <th>29506</th>\n",
       "      <td>Murray A.</td>\n",
       "      <td>Djokovic N.</td>\n",
       "      <td>2.633333</td>\n",
       "      <td>1.482500</td>\n",
       "      <td>2.50</td>\n",
       "      <td>1.53</td>\n",
       "      <td>Murray A.</td>\n",
       "    </tr>\n",
       "  </tbody>\n",
       "</table>\n",
       "</div>"
      ],
      "text/plain": [
       "           Player 1      Player 2    P1_Avg    P2_Avg  P1_B365  P2_B365  \\\n",
       "29502   Wawrinka S.     Murray A.  3.652500  1.293333     3.75     1.28   \n",
       "29503  Nishikori K.      Cilic M.  1.552500  2.446667     1.57     2.37   \n",
       "29504     Raonic M.     Murray A.  4.252500  1.230000     4.50     1.20   \n",
       "29505   Djokovic N.  Nishikori K.  1.230000  4.240000     1.22     4.33   \n",
       "29506     Murray A.   Djokovic N.  2.633333  1.482500     2.50     1.53   \n",
       "\n",
       "            Winner  \n",
       "29502    Murray A.  \n",
       "29503     Cilic M.  \n",
       "29504    Murray A.  \n",
       "29505  Djokovic N.  \n",
       "29506    Murray A.  "
      ]
     },
     "execution_count": 283,
     "metadata": {},
     "output_type": "execute_result"
    }
   ],
   "source": [
    "for col in ['Avg', 'Var', 'Max', 'B&W', 'B365', 'CB',  'EX', 'GB', 'IW', 'LB', 'PS', 'SB', 'SJ', 'UB']:\n",
    "    \n",
    "    matches_bets.loc[matches_bets['P1 is a winner'] == 1, 'P1_'+col] = matches_bets[col+'W']\n",
    "    matches_bets.loc[matches_bets['P1 is a winner'] == 1, 'P2_'+col] = matches_bets[col+'L']\n",
    "    \n",
    "    matches_bets.loc[matches_bets['P1 is a winner'] == 0, 'P1_'+col] = matches_bets[col+'L']\n",
    "    matches_bets.loc[matches_bets['P1 is a winner'] == 0, 'P2_'+col] = matches_bets[col+'W']\n",
    "    \n",
    "matches_bets[['Player 1', 'Player 2', 'P1_Avg', 'P2_Avg', 'P1_B365', 'P2_B365', 'Winner']].tail()"
   ]
  },
  {
   "cell_type": "code",
   "execution_count": 284,
   "metadata": {
    "collapsed": false
   },
   "outputs": [
    {
     "data": {
      "text/html": [
       "<div>\n",
       "<table border=\"1\" class=\"dataframe\">\n",
       "  <thead>\n",
       "    <tr style=\"text-align: right;\">\n",
       "      <th></th>\n",
       "      <th>P1 is a winner</th>\n",
       "      <th>P1_Pts</th>\n",
       "      <th>P1_Rank</th>\n",
       "      <th>Player 1</th>\n",
       "      <th>P1_1</th>\n",
       "      <th>P2_1</th>\n",
       "      <th>P1_2</th>\n",
       "      <th>P2_2</th>\n",
       "      <th>P1_3</th>\n",
       "      <th>P2_3</th>\n",
       "    </tr>\n",
       "  </thead>\n",
       "  <tbody>\n",
       "    <tr>\n",
       "      <th>29502</th>\n",
       "      <td>0.0</td>\n",
       "      <td>5115.0</td>\n",
       "      <td>3</td>\n",
       "      <td>Wawrinka S.</td>\n",
       "      <td>4.0</td>\n",
       "      <td>6.0</td>\n",
       "      <td>2</td>\n",
       "      <td>6</td>\n",
       "      <td>NaN</td>\n",
       "      <td>NaN</td>\n",
       "    </tr>\n",
       "    <tr>\n",
       "      <th>29503</th>\n",
       "      <td>0.0</td>\n",
       "      <td>4705.0</td>\n",
       "      <td>5</td>\n",
       "      <td>Nishikori K.</td>\n",
       "      <td>6.0</td>\n",
       "      <td>3.0</td>\n",
       "      <td>2</td>\n",
       "      <td>6</td>\n",
       "      <td>3</td>\n",
       "      <td>6</td>\n",
       "    </tr>\n",
       "    <tr>\n",
       "      <th>29504</th>\n",
       "      <td>0.0</td>\n",
       "      <td>5050.0</td>\n",
       "      <td>4</td>\n",
       "      <td>Raonic M.</td>\n",
       "      <td>7.0</td>\n",
       "      <td>5.0</td>\n",
       "      <td>6</td>\n",
       "      <td>7</td>\n",
       "      <td>6</td>\n",
       "      <td>7</td>\n",
       "    </tr>\n",
       "    <tr>\n",
       "      <th>29505</th>\n",
       "      <td>1.0</td>\n",
       "      <td>10780.0</td>\n",
       "      <td>2</td>\n",
       "      <td>Djokovic N.</td>\n",
       "      <td>6.0</td>\n",
       "      <td>1.0</td>\n",
       "      <td>6</td>\n",
       "      <td>1</td>\n",
       "      <td>NaN</td>\n",
       "      <td>NaN</td>\n",
       "    </tr>\n",
       "    <tr>\n",
       "      <th>29506</th>\n",
       "      <td>1.0</td>\n",
       "      <td>11185.0</td>\n",
       "      <td>1</td>\n",
       "      <td>Murray A.</td>\n",
       "      <td>6.0</td>\n",
       "      <td>3.0</td>\n",
       "      <td>6</td>\n",
       "      <td>4</td>\n",
       "      <td>NaN</td>\n",
       "      <td>NaN</td>\n",
       "    </tr>\n",
       "  </tbody>\n",
       "</table>\n",
       "</div>"
      ],
      "text/plain": [
       "       P1 is a winner   P1_Pts P1_Rank      Player 1  P1_1  P2_1 P1_2 P2_2  \\\n",
       "29502             0.0   5115.0       3   Wawrinka S.   4.0   6.0    2    6   \n",
       "29503             0.0   4705.0       5  Nishikori K.   6.0   3.0    2    6   \n",
       "29504             0.0   5050.0       4     Raonic M.   7.0   5.0    6    7   \n",
       "29505             1.0  10780.0       2   Djokovic N.   6.0   1.0    6    1   \n",
       "29506             1.0  11185.0       1     Murray A.   6.0   3.0    6    4   \n",
       "\n",
       "      P1_3 P2_3  \n",
       "29502  NaN  NaN  \n",
       "29503    3    6  \n",
       "29504    6    7  \n",
       "29505  NaN  NaN  \n",
       "29506  NaN  NaN  "
      ]
     },
     "execution_count": 284,
     "metadata": {},
     "output_type": "execute_result"
    }
   ],
   "source": [
    "for col in ['Pts', 'Rank', 'sets', '1', '2', '3', '4', '5']:\n",
    "    \n",
    "    matches_bets.loc[matches_bets['P1 is a winner'] == 1, 'P1_'+col] = matches_bets['W'+col]\n",
    "    matches_bets.loc[matches_bets['P1 is a winner'] == 1, 'P2_'+col] = matches_bets['L'+col]\n",
    "    \n",
    "    matches_bets.loc[matches_bets['P1 is a winner'] == 0, 'P1_'+col] = matches_bets['L'+col]\n",
    "    matches_bets.loc[matches_bets['P1 is a winner'] == 0, 'P2_'+col] = matches_bets['W'+col]\n",
    "    \n",
    "matches_bets[['P1 is a winner', 'P1_Pts', 'P1_Rank', 'Player 1', 'P1_1', 'P2_1', 'P1_2', 'P2_2', 'P1_3', 'P2_3']].tail()"
   ]
  },
  {
   "cell_type": "code",
   "execution_count": 285,
   "metadata": {
    "collapsed": false
   },
   "outputs": [
    {
     "name": "stdout",
     "output_type": "stream",
     "text": [
      "<class 'pandas.core.frame.DataFrame'>\n",
      "RangeIndex: 29507 entries, 0 to 29506\n",
      "Columns: 229 entries, winner_name to P2_5\n",
      "dtypes: datetime64[ns](2), float64(161), int32(8), int64(9), object(48), timedelta64[ns](1)\n",
      "memory usage: 50.7+ MB\n"
     ]
    }
   ],
   "source": [
    "matches_bets.info()"
   ]
  },
  {
   "cell_type": "code",
   "execution_count": 286,
   "metadata": {
    "collapsed": false
   },
   "outputs": [
    {
     "data": {
      "text/html": [
       "<div>\n",
       "<table border=\"1\" class=\"dataframe\">\n",
       "  <thead>\n",
       "    <tr style=\"text-align: right;\">\n",
       "      <th></th>\n",
       "      <th>Player 1</th>\n",
       "      <th>Player 2</th>\n",
       "      <th>P1_Prct1stIn</th>\n",
       "      <th>P2_Prct1stIn</th>\n",
       "      <th>P1_Prct1stWon</th>\n",
       "      <th>P2_Prct1stWon</th>\n",
       "      <th>P1 is a winner</th>\n",
       "    </tr>\n",
       "  </thead>\n",
       "  <tbody>\n",
       "    <tr>\n",
       "      <th>29497</th>\n",
       "      <td>Raonic M.</td>\n",
       "      <td>Djokovic N.</td>\n",
       "      <td>0.576923</td>\n",
       "      <td>0.644444</td>\n",
       "      <td>0.844444</td>\n",
       "      <td>0.724138</td>\n",
       "      <td>0.0</td>\n",
       "    </tr>\n",
       "    <tr>\n",
       "      <th>29498</th>\n",
       "      <td>Wawrinka S.</td>\n",
       "      <td>Cilic M.</td>\n",
       "      <td>0.610390</td>\n",
       "      <td>0.450000</td>\n",
       "      <td>0.787234</td>\n",
       "      <td>0.861111</td>\n",
       "      <td>1.0</td>\n",
       "    </tr>\n",
       "    <tr>\n",
       "      <th>29499</th>\n",
       "      <td>Murray A.</td>\n",
       "      <td>Nishikori K.</td>\n",
       "      <td>0.530303</td>\n",
       "      <td>0.630252</td>\n",
       "      <td>0.757143</td>\n",
       "      <td>0.720000</td>\n",
       "      <td>1.0</td>\n",
       "    </tr>\n",
       "    <tr>\n",
       "      <th>29500</th>\n",
       "      <td>Raonic M.</td>\n",
       "      <td>Thiem D.</td>\n",
       "      <td>0.637931</td>\n",
       "      <td>0.545455</td>\n",
       "      <td>0.864865</td>\n",
       "      <td>0.666667</td>\n",
       "      <td>1.0</td>\n",
       "    </tr>\n",
       "    <tr>\n",
       "      <th>29501</th>\n",
       "      <td>Goffin D.</td>\n",
       "      <td>Djokovic N.</td>\n",
       "      <td>0.468085</td>\n",
       "      <td>0.614035</td>\n",
       "      <td>0.590909</td>\n",
       "      <td>0.828571</td>\n",
       "      <td>0.0</td>\n",
       "    </tr>\n",
       "    <tr>\n",
       "      <th>29502</th>\n",
       "      <td>Wawrinka S.</td>\n",
       "      <td>Murray A.</td>\n",
       "      <td>0.611940</td>\n",
       "      <td>0.588235</td>\n",
       "      <td>0.658537</td>\n",
       "      <td>0.866667</td>\n",
       "      <td>0.0</td>\n",
       "    </tr>\n",
       "    <tr>\n",
       "      <th>29503</th>\n",
       "      <td>Nishikori K.</td>\n",
       "      <td>Cilic M.</td>\n",
       "      <td>0.635135</td>\n",
       "      <td>0.545455</td>\n",
       "      <td>0.638298</td>\n",
       "      <td>0.809524</td>\n",
       "      <td>0.0</td>\n",
       "    </tr>\n",
       "    <tr>\n",
       "      <th>29504</th>\n",
       "      <td>Raonic M.</td>\n",
       "      <td>Murray A.</td>\n",
       "      <td>0.632812</td>\n",
       "      <td>0.609589</td>\n",
       "      <td>0.740741</td>\n",
       "      <td>0.617978</td>\n",
       "      <td>0.0</td>\n",
       "    </tr>\n",
       "    <tr>\n",
       "      <th>29505</th>\n",
       "      <td>Djokovic N.</td>\n",
       "      <td>Nishikori K.</td>\n",
       "      <td>0.636364</td>\n",
       "      <td>0.636364</td>\n",
       "      <td>0.821429</td>\n",
       "      <td>0.514286</td>\n",
       "      <td>1.0</td>\n",
       "    </tr>\n",
       "    <tr>\n",
       "      <th>29506</th>\n",
       "      <td>Murray A.</td>\n",
       "      <td>Djokovic N.</td>\n",
       "      <td>0.542373</td>\n",
       "      <td>0.721311</td>\n",
       "      <td>0.843750</td>\n",
       "      <td>0.590909</td>\n",
       "      <td>1.0</td>\n",
       "    </tr>\n",
       "  </tbody>\n",
       "</table>\n",
       "</div>"
      ],
      "text/plain": [
       "           Player 1      Player 2  P1_Prct1stIn  P2_Prct1stIn  P1_Prct1stWon  \\\n",
       "29497     Raonic M.   Djokovic N.      0.576923      0.644444       0.844444   \n",
       "29498   Wawrinka S.      Cilic M.      0.610390      0.450000       0.787234   \n",
       "29499     Murray A.  Nishikori K.      0.530303      0.630252       0.757143   \n",
       "29500     Raonic M.      Thiem D.      0.637931      0.545455       0.864865   \n",
       "29501     Goffin D.   Djokovic N.      0.468085      0.614035       0.590909   \n",
       "29502   Wawrinka S.     Murray A.      0.611940      0.588235       0.658537   \n",
       "29503  Nishikori K.      Cilic M.      0.635135      0.545455       0.638298   \n",
       "29504     Raonic M.     Murray A.      0.632812      0.609589       0.740741   \n",
       "29505   Djokovic N.  Nishikori K.      0.636364      0.636364       0.821429   \n",
       "29506     Murray A.   Djokovic N.      0.542373      0.721311       0.843750   \n",
       "\n",
       "       P2_Prct1stWon  P1 is a winner  \n",
       "29497       0.724138             0.0  \n",
       "29498       0.861111             1.0  \n",
       "29499       0.720000             1.0  \n",
       "29500       0.666667             1.0  \n",
       "29501       0.828571             0.0  \n",
       "29502       0.866667             0.0  \n",
       "29503       0.809524             0.0  \n",
       "29504       0.617978             0.0  \n",
       "29505       0.514286             1.0  \n",
       "29506       0.590909             1.0  "
      ]
     },
     "execution_count": 286,
     "metadata": {},
     "output_type": "execute_result"
    }
   ],
   "source": [
    "matches_bets[['Player 1', 'Player 2', 'P1_Prct1stIn', 'P2_Prct1stIn',\n",
    "           'P1_Prct1stWon', 'P2_Prct1stWon', 'P1 is a winner']].tail(10)\n"
   ]
  },
  {
   "cell_type": "code",
   "execution_count": null,
   "metadata": {
    "collapsed": true
   },
   "outputs": [],
   "source": []
  },
  {
   "cell_type": "markdown",
   "metadata": {
    "collapsed": false
   },
   "source": [
    "###  ***Актуальный вопрос: как сделать средние кумулятивные показатели?***"
   ]
  },
  {
   "cell_type": "markdown",
   "metadata": {},
   "source": [
    "\n"
   ]
  },
  {
   "cell_type": "code",
   "execution_count": null,
   "metadata": {
    "collapsed": true
   },
   "outputs": [],
   "source": []
  },
  {
   "cell_type": "code",
   "execution_count": null,
   "metadata": {
    "collapsed": true
   },
   "outputs": [],
   "source": []
  }
 ],
 "metadata": {
  "anaconda-cloud": {},
  "kernelspec": {
   "display_name": "Python [Root]",
   "language": "python",
   "name": "Python [Root]"
  },
  "language_info": {
   "codemirror_mode": {
    "name": "ipython",
    "version": 3
   },
   "file_extension": ".py",
   "mimetype": "text/x-python",
   "name": "python",
   "nbconvert_exporter": "python",
   "pygments_lexer": "ipython3",
   "version": "3.5.2"
  }
 },
 "nbformat": 4,
 "nbformat_minor": 0
}
